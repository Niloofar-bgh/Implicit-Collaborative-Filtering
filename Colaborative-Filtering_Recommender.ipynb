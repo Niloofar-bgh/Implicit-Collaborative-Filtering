{
 "cells": [
  {
   "cell_type": "code",
   "execution_count": 3,
   "metadata": {},
   "outputs": [],
   "source": [
    "from pyspark.sql import SparkSession\n",
    "from pyspark import Row\n",
    "from pyspark.sql import SQLContext\n",
    "import sys\n",
    "import json\n",
    "from pyspark.ml.recommendation import ALS\n",
    "from pyspark.ml.evaluation import RegressionEvaluator\n",
    "from pyspark.sql.functions import lit\n",
    "from pyspark.ml.feature import MinMaxScaler\n",
    "from pyspark.mllib.util import MLUtils\n",
    "from pyspark.ml.feature import StandardScaler\n",
    "from pyspark.sql.functions import mean as _mean, stddev as _stddev, col"
   ]
  },
  {
   "cell_type": "code",
   "execution_count": 4,
   "metadata": {},
   "outputs": [],
   "source": [
    "spark = SparkSession \\\n",
    "    .builder \\\n",
    "    .appName(\"Python Spark SQL basic example\") \\\n",
    "    .config(\"spark.some.config.option\", \"some-value\") \\\n",
    "    .getOrCreate()\n"
   ]
  },
  {
   "cell_type": "code",
   "execution_count": 5,
   "metadata": {},
   "outputs": [],
   "source": [
    "df = spark.read.load('steam_data_w_game_id.csv', \n",
    "                      format='com.databricks.spark.csv', \n",
    "                      header='true', \n",
    "                      inferSchema='true')"
   ]
  },
  {
   "cell_type": "code",
   "execution_count": 6,
   "metadata": {},
   "outputs": [],
   "source": [
    "df = df.withColumnRenamed(\"User ID\", \"userId\").withColumnRenamed(\"_c0\", \"num\").\\\n",
    "        withColumnRenamed(\"Game Title\",\"gameTitle\").withColumnRenamed(\"Hours Played\",\"hoursPlayed\").\\\n",
    "        withColumnRenamed(\"Game ID\",\"gameId\")"
   ]
  },
  {
   "cell_type": "code",
   "execution_count": 23,
   "metadata": {},
   "outputs": [
    {
     "name": "stdout",
     "output_type": "stream",
     "text": [
      "(70489, 5)\n"
     ]
    }
   ],
   "source": [
    "print((df.count(), len(df.columns)))"
   ]
  },
  {
   "cell_type": "code",
   "execution_count": 6,
   "metadata": {},
   "outputs": [
    {
     "name": "stdout",
     "output_type": "stream",
     "text": [
      "+---+---------+--------------------+-----------+------+\n",
      "|num|   userId|           gameTitle|hoursPlayed|gameId|\n",
      "+---+---------+--------------------+-----------+------+\n",
      "|  0|151603712|The Elder Scrolls...|      273.0|  3067|\n",
      "|  1|151603712|           Fallout 4|       87.0|  1162|\n",
      "|  2|151603712|               Spore|       14.9|  2813|\n",
      "|  3|151603712|   Fallout New Vegas|       12.1|  1163|\n",
      "|  4|151603712|       Left 4 Dead 2|        8.9|  1733|\n",
      "|  5|151603712|            HuniePop|        8.5|  1535|\n",
      "|  6|151603712|       Path of Exile|        8.1|  2197|\n",
      "|  7|151603712|         Poly Bridge|        7.5|  2251|\n",
      "|  8|151603712|         Left 4 Dead|        3.3|  1732|\n",
      "|  9|151603712|     Team Fortress 2|        2.8|  2994|\n",
      "| 10|151603712|         Tomb Raider|        2.5|  3247|\n",
      "| 11|151603712|     The Banner Saga|        2.0|  3024|\n",
      "| 12|151603712|Dead Island Epidemic|        1.4|   783|\n",
      "| 13|151603712|   BioShock Infinite|        1.3|   348|\n",
      "| 14|151603712|Dragon Age Origin...|        1.3|   934|\n",
      "| 15|151603712|Fallout 3 - Game ...|        0.8|  1161|\n",
      "| 16|151603712|SEGA Genesis & Me...|        0.8|  2535|\n",
      "| 17|151603712| Grand Theft Auto IV|        0.6|  1372|\n",
      "| 18|151603712|Realm of the Mad God|        0.5|  2401|\n",
      "| 19|151603712|  Marvel Heroes 2015|        0.5|  1863|\n",
      "+---+---------+--------------------+-----------+------+\n",
      "only showing top 20 rows\n",
      "\n"
     ]
    }
   ],
   "source": [
    "df.show()"
   ]
  },
  {
   "cell_type": "markdown",
   "metadata": {},
   "source": [
    "# Normalization"
   ]
  },
  {
   "cell_type": "code",
   "execution_count": 7,
   "metadata": {},
   "outputs": [
    {
     "name": "stdout",
     "output_type": "stream",
     "text": [
      "48.878063243911484\n",
      "229.33523599681345\n"
     ]
    }
   ],
   "source": [
    "df_norm = df.select(\n",
    "    _mean(col('hoursPlayed')).alias('mean'),\n",
    "    _stddev(col('hoursPlayed')).alias('std')\n",
    ").collect()\n",
    "\n",
    "mean = df_norm[0]['mean']\n",
    "std = df_norm[0]['std']\n",
    "\n",
    "print(mean)\n",
    "print(std)"
   ]
  },
  {
   "cell_type": "code",
   "execution_count": 8,
   "metadata": {},
   "outputs": [],
   "source": [
    "df = df.withColumn(\"normalizedH\", (df['hoursPlayed']-mean)/std)"
   ]
  },
  {
   "cell_type": "markdown",
   "metadata": {},
   "source": [
    "# Baseline - Basic ALS"
   ]
  },
  {
   "cell_type": "code",
   "execution_count": 25,
   "metadata": {},
   "outputs": [],
   "source": [
    "df = spark.read.load('steam_data_w_game_id.csv', \n",
    "                      format='com.databricks.spark.csv', \n",
    "                      header='true', \n",
    "                      inferSchema='true')\n",
    "df = df.withColumnRenamed(\"User ID\", \"userId\").withColumnRenamed(\"_c0\", \"num\").\\\n",
    "        withColumnRenamed(\"Game Title\",\"gameTitle\").withColumnRenamed(\"Hours Played\",\"hoursPlayed\").\\\n",
    "        withColumnRenamed(\"Game ID\",\"gameId\")\n",
    "df_norm = df.select(\n",
    "    _mean(col('hoursPlayed')).alias('mean'),\n",
    "    _stddev(col('hoursPlayed')).alias('std')\n",
    ").collect()\n",
    "\n",
    "mean = df_norm[0]['mean']\n",
    "std = df_norm[0]['std']\n",
    "df = df.withColumn(\"normalizedH\", (df['hoursPlayed']-mean)/std)\n",
    "(training, test) = df.randomSplit([0.8, 0.2], 123)"
   ]
  },
  {
   "cell_type": "code",
   "execution_count": 26,
   "metadata": {},
   "outputs": [
    {
     "data": {
      "text/plain": [
       "0.8612171660889554"
      ]
     },
     "execution_count": 26,
     "metadata": {},
     "output_type": "execute_result"
    }
   ],
   "source": [
    "als = ALS(maxIter=5, regParam=0.01, implicitPrefs = True, userCol=\"userId\", itemCol=\"gameId\", ratingCol=\"normalizedH\",\n",
    "          coldStartStrategy=\"drop\").setSeed(123)\n",
    "\n",
    "model = als.fit(training)\n",
    "\n",
    "# Evaluate the model by computing the RMSE on the test data\n",
    "predictions = model.transform(test)\n",
    "evaluator = RegressionEvaluator(metricName=\"rmse\", labelCol=\"normalizedH\",predictionCol=\"prediction\")\n",
    "\n",
    "rmse = evaluator.evaluate(predictions)\n",
    "\n",
    "#Result\n",
    "rmse"
   ]
  },
  {
   "cell_type": "code",
   "execution_count": 11,
   "metadata": {},
   "outputs": [],
   "source": [
    "# df2.show()"
   ]
  },
  {
   "cell_type": "markdown",
   "metadata": {},
   "source": [
    "# ALS Global Average"
   ]
  },
  {
   "cell_type": "code",
   "execution_count": 12,
   "metadata": {},
   "outputs": [],
   "source": [
    "df = spark.read.load('steam_data_w_game_id.csv', \n",
    "                      format='com.databricks.spark.csv', \n",
    "                      header='true', \n",
    "                      inferSchema='true')\n",
    "df = df.withColumnRenamed(\"User ID\", \"userId\").withColumnRenamed(\"_c0\", \"num\").\\\n",
    "        withColumnRenamed(\"Game Title\",\"gameTitle\").withColumnRenamed(\"Hours Played\",\"hoursPlayed\").\\\n",
    "        withColumnRenamed(\"Game ID\",\"gameId\")\n",
    "df_norm = df.select(\n",
    "    _mean(col('hoursPlayed')).alias('mean'),\n",
    "    _stddev(col('hoursPlayed')).alias('std')\n",
    ").collect()\n",
    "\n",
    "mean = df_norm[0]['mean']\n",
    "std = df_norm[0]['std']\n",
    "df = df.withColumn(\"normalizedH\", (df['hoursPlayed']-mean)/std)\n",
    "(training, test) = df.randomSplit([0.8, 0.2], 123)"
   ]
  },
  {
   "cell_type": "code",
   "execution_count": 13,
   "metadata": {},
   "outputs": [
    {
     "name": "stdout",
     "output_type": "stream",
     "text": [
      "0.0012531904932816308\n"
     ]
    }
   ],
   "source": [
    "global_mean = training.groupBy().avg(\"normalizedH\").collect()[0]['avg(normalizedH)']\n",
    "training = training.withColumn('normalizedHAVG',lit(global_mean))\n",
    "print(global_mean)"
   ]
  },
  {
   "cell_type": "code",
   "execution_count": 14,
   "metadata": {},
   "outputs": [
    {
     "data": {
      "text/plain": [
       "0.8753411684638525"
      ]
     },
     "execution_count": 14,
     "metadata": {},
     "output_type": "execute_result"
    }
   ],
   "source": [
    "als = ALS(maxIter=5, regParam=0.01,implicitPrefs = True,userCol=\"userId\", itemCol=\"gameId\", ratingCol=\"normalizedHAVG\",\n",
    "          coldStartStrategy=\"drop\").setSeed(123)\n",
    "\n",
    "model = als.fit(training)\n",
    "\n",
    "# Evaluate the model by computing the RMSE on the test dataI\n",
    "predictions = model.transform(test)\n",
    "evaluator = RegressionEvaluator(metricName=\"rmse\", labelCol=\"normalizedH\",\n",
    "                                predictionCol=\"prediction\")\n",
    "\n",
    "rmse = evaluator.evaluate(predictions)\n",
    "\n",
    "#Result\n",
    "rmse"
   ]
  },
  {
   "cell_type": "markdown",
   "metadata": {},
   "source": [
    "# ALS with Bias"
   ]
  },
  {
   "cell_type": "code",
   "execution_count": 15,
   "metadata": {},
   "outputs": [],
   "source": [
    "df = spark.read.load('steam_data_w_game_id.csv', \n",
    "                      format='com.databricks.spark.csv', \n",
    "                      header='true', \n",
    "                      inferSchema='true')\n",
    "df = df.withColumnRenamed(\"User ID\", \"userId\").withColumnRenamed(\"_c0\", \"num\").\\\n",
    "        withColumnRenamed(\"Game Title\",\"gameTitle\").withColumnRenamed(\"Hours Played\",\"hoursPlayed\").\\\n",
    "        withColumnRenamed(\"Game ID\",\"gameId\")\n",
    "df_norm = df.select(\n",
    "    _mean(col('hoursPlayed')).alias('mean'),\n",
    "    _stddev(col('hoursPlayed')).alias('std')\n",
    ").collect()\n",
    "\n",
    "mean = df_norm[0]['mean']\n",
    "std = df_norm[0]['std']\n",
    "df = df.withColumn(\"normalizedH\", (df['hoursPlayed']-mean)/std)\n",
    "(training, test) = df.randomSplit([0.8, 0.2], 123)"
   ]
  },
  {
   "cell_type": "code",
   "execution_count": 16,
   "metadata": {},
   "outputs": [
    {
     "data": {
      "text/plain": [
       "0.9186947958927599"
      ]
     },
     "execution_count": 16,
     "metadata": {},
     "output_type": "execute_result"
    }
   ],
   "source": [
    "#################\n",
    "\n",
    "#global average \n",
    "global_mean = training.groupBy().avg(\"normalizedH\").collect()[0]['avg(normalizedH)']\n",
    "\n",
    "#User_mean\n",
    "user_mean = training.groupBy(\"userId\").agg({\"normalizedH\": \"avg\"})\n",
    "user_mean = user_mean.withColumnRenamed('avg(normalizedH)', 'user_mean')\n",
    "\n",
    "#item_mean\n",
    "item_mean = training.groupBy('gameId').agg({\"normalizedH\": \"avg\"})\n",
    "item_mean = item_mean.withColumnRenamed('avg(normalizedH)', 'item_mean')\n",
    "\n",
    "#joining DFs\n",
    "# mainDF = training.alias('mainDF')\n",
    "userDF = user_mean.alias('userDF')\n",
    "itemDF = item_mean.alias('itemDF')\n",
    "\n",
    "training = training.join(userDF, training.userId == userDF.userId, 'outer')\\\n",
    "    .select(training.userId, training.gameId, training.normalizedH , userDF.user_mean)\n",
    "\n",
    "training = training.join(itemDF, training.gameId == itemDF.gameId, 'outer')\\\n",
    "    .select(training.userId, training.gameId, training.normalizedH ,training.user_mean, itemDF.item_mean)\n",
    "\n",
    "#user_item_interaction  \n",
    "training = training.withColumn('user_item_interaction',training.normalizedH\\\n",
    "                               - (training.user_mean + training.item_mean - global_mean))\n",
    "\n",
    "\n",
    "#################\n",
    "#####test#######\n",
    "\n",
    "test_user_mean = user_mean.alias('test_user_mean')\n",
    "test = test.join(test_user_mean, test.userId == test_user_mean.userId, 'inner') \\\n",
    "    .select(test.userId, test.gameId, test.normalizedH, test_user_mean.user_mean)\n",
    "\n",
    "test_item_mean = item_mean.alias('test_item_mean')\n",
    "test = test.join(test_item_mean, test.gameId == test_item_mean.gameId, 'inner') \\\n",
    "    .select(test.userId, test.gameId, test.normalizedH, test.user_mean, test_item_mean.item_mean)\n",
    "\n",
    "als = ALS( maxIter=5, regParam=0.01,implicitPrefs = True,userCol=\"userId\", itemCol=\"gameId\", ratingCol=\"user_item_interaction\",\n",
    "          coldStartStrategy=\"drop\").setSeed(123)\n",
    "\n",
    "\n",
    "model = als.fit(training)\n",
    "predictions = model.transform(test)\n",
    "\n",
    "predictions = predictions.withColumn('prediction_calculated',\n",
    "                                     predictions.prediction + predictions.user_mean + predictions.item_mean - global_mean)\n",
    "\n",
    "evaluator = RegressionEvaluator(metricName=\"rmse\", labelCol=\"normalizedH\", predictionCol=\"prediction_calculated\")\n",
    "rmse = evaluator.evaluate(predictions)\n",
    "\n",
    "rmse\n"
   ]
  },
  {
   "cell_type": "markdown",
   "metadata": {},
   "source": [
    "# Normalization based on Game ID"
   ]
  },
  {
   "cell_type": "code",
   "execution_count": 134,
   "metadata": {},
   "outputs": [],
   "source": [
    "df = spark.read.load('steam_data_w_game_id.csv', \n",
    "                      format='com.databricks.spark.csv', \n",
    "                      header='true', \n",
    "                      inferSchema='true')\n",
    "df = df.withColumnRenamed(\"User ID\", \"userId\").withColumnRenamed(\"_c0\", \"num\").\\\n",
    "        withColumnRenamed(\"Game Title\",\"gameTitle\").withColumnRenamed(\"Hours Played\",\"hoursPlayed\").\\\n",
    "        withColumnRenamed(\"Game ID\",\"gameId\")\n",
    "df_norm = df.select(\n",
    "    _mean(col('hoursPlayed')).alias('mean'),\n",
    "    _stddev(col('hoursPlayed')).alias('std')\n",
    ").collect()\n",
    "\n",
    "mean = df_norm[0]['mean']\n",
    "std = df_norm[0]['std']\n",
    "df = df.withColumn(\"normalizedH\", (df['hoursPlayed']-mean)/std)\n"
   ]
  },
  {
   "cell_type": "code",
   "execution_count": 60,
   "metadata": {
    "scrolled": true
   },
   "outputs": [],
   "source": [
    "# df.show()"
   ]
  },
  {
   "cell_type": "code",
   "execution_count": 135,
   "metadata": {},
   "outputs": [],
   "source": [
    "#item_mean\n",
    "item_mean = df.groupBy('gameId').agg({\"hoursPlayed\": \"avg\"})\n",
    "item_mean = item_mean.withColumnRenamed('avg(hoursPlayed)', 'item_mean')\n",
    "\n",
    "#item_std\n",
    "item_stddev = df.groupBy('gameId').agg(stddev_pop(\"hoursPlayed\"))\n",
    "item_stddev = item_stddev.withColumnRenamed('stddev_pop(hoursPlayed)', 'item_stddev')\n",
    "\n",
    "#joining DFs\n",
    "itemDF = item_mean.alias('itemDF')\n",
    "itemsdDF = item_stddev.alias('itemsdDF')\n",
    "\n",
    "from pyspark.sql.functions import * #for decs or asc\n",
    "\n",
    "df = df.join(itemDF, df.gameId == itemDF.gameId, 'outer')\\\n",
    "    .select( df.num, df.userId, df.gameTitle, df.hoursPlayed ,df.gameId, df.normalizedH ,itemDF.item_mean)#.orderBy(asc(\"num\"))\n",
    "\n",
    "df = df.join(itemsdDF, df.gameId == itemsdDF.gameId, 'outer')\\\n",
    "    .select( df.num, df.userId, df.gameTitle, df.hoursPlayed ,df.gameId, df.normalizedH ,df.item_mean , itemsdDF.item_stddev)\n"
   ]
  },
  {
   "cell_type": "code",
   "execution_count": 136,
   "metadata": {},
   "outputs": [],
   "source": [
    "df = df.withColumn(\"item_normalizedH\", (df['hoursPlayed']-df['item_mean'])/df['item_stddev'])"
   ]
  },
  {
   "cell_type": "code",
   "execution_count": 137,
   "metadata": {},
   "outputs": [],
   "source": [
    "df = df.na.fill(0)"
   ]
  },
  {
   "cell_type": "code",
   "execution_count": 106,
   "metadata": {},
   "outputs": [
    {
     "name": "stdout",
     "output_type": "stream",
     "text": [
      "+-----+---------+--------------------+-----------+------+--------------------+------------------+------------------+--------------------+\n",
      "|  num|   userId|           gameTitle|hoursPlayed|gameId|         normalizedH|         item_mean|       item_stddev|    item_normalizedH|\n",
      "+-----+---------+--------------------+-----------+------+--------------------+------------------+------------------+--------------------+\n",
      "|  976| 57103808|    America's Army 3|       25.0|   148| -0.1041185979996692|          10.61875|23.253957156524997|  0.6184431279028422|\n",
      "|14122|206014489|    America's Army 3|        0.3|   148|-0.21182119281742848|          10.61875|23.253957156524997|-0.44374167934271724|\n",
      "|15206|197406178|    America's Army 3|        0.7|   148|-0.21007702124143235|          10.61875|23.253957156524997|-0.42654030594602804|\n",
      "|25522| 43955374|    America's Army 3|        0.2|   148| -0.2122572357114275|          10.61875|23.253957156524997| -0.4480420226918896|\n",
      "|26334|132014951|    America's Army 3|        0.1|   148| -0.2126932786054265|          10.61875|23.253957156524997|-0.45234236604106187|\n",
      "|40077| 95181268|    America's Army 3|        0.2|   148| -0.2122572357114275|          10.61875|23.253957156524997| -0.4480420226918896|\n",
      "|47213|163930591|    America's Army 3|        0.1|   148| -0.2126932786054265|          10.61875|23.253957156524997|-0.45234236604106187|\n",
      "|48072|137846274|    America's Army 3|        0.2|   148| -0.2122572357114275|          10.61875|23.253957156524997| -0.4480420226918896|\n",
      "|48137|129117376|    America's Army 3|        1.4|   148| -0.2070247209834392|          10.61875|23.253957156524997|-0.39643790250182187|\n",
      "|51162|127072755|    America's Army 3|        0.1|   148| -0.2126932786054265|          10.61875|23.253957156524997|-0.45234236604106187|\n",
      "|51924| 50797633|    America's Army 3|        6.5|   148| -0.1847865333894889|          10.61875|23.253957156524997|-0.17712039169403435|\n",
      "|55118|164318687|    America's Army 3|        2.6|   148|-0.20179220625545088|          10.61875|23.253957156524997|-0.34483378231175427|\n",
      "|60470| 54212914|    America's Army 3|       36.0|   148|-0.05615387965977...|          10.61875|23.253957156524997|  1.0914808963117957|\n",
      "|60769| 90815028|    America's Army 3|        4.4|   148|-0.19394343416346843|          10.61875|23.253957156524997| -0.2674276020266527|\n",
      "|61195|145117004|    America's Army 3|        0.1|   148| -0.2126932786054265|          10.61875|23.253957156524997|-0.45234236604106187|\n",
      "|62481| 70327507|    America's Army 3|       92.0|   148| 0.18803014097967782|          10.61875|23.253957156524997|  3.4996731718482863|\n",
      "|24681|138941587|CAFE 0 ~The Drown...|        3.0|   463|-0.20004803467945478|               3.0|               0.0|                 0.0|\n",
      "|14543| 62878249|Cabelas Trophy Bucks|        3.4|   471|-0.19830386310345868|               3.4|               0.0|                 0.0|\n",
      "|10159| 24469287|Call of Juarez Bo...|        0.5|   496|-0.21094910702943043|5.6000000000000005| 5.031567018997825|  -1.013600729304368|\n",
      "|30934| 22301321|Call of Juarez Bo...|        0.6|   496| -0.2105130641354314|5.6000000000000005| 5.031567018997825| -0.9937262052003608|\n",
      "+-----+---------+--------------------+-----------+------+--------------------+------------------+------------------+--------------------+\n",
      "only showing top 20 rows\n",
      "\n"
     ]
    }
   ],
   "source": [
    "df.show()"
   ]
  },
  {
   "cell_type": "code",
   "execution_count": 83,
   "metadata": {},
   "outputs": [
    {
     "name": "stdout",
     "output_type": "stream",
     "text": [
      "(70489, 9)\n"
     ]
    }
   ],
   "source": [
    "print((df.count(), len(df.columns)))"
   ]
  },
  {
   "cell_type": "code",
   "execution_count": 107,
   "metadata": {},
   "outputs": [
    {
     "name": "stdout",
     "output_type": "stream",
     "text": [
      "+---+------+---------+-----------+------+-----------+---------+-----------+----------------+\n",
      "|num|userId|gameTitle|hoursPlayed|gameId|normalizedH|item_mean|item_stddev|item_normalizedH|\n",
      "+---+------+---------+-----------+------+-----------+---------+-----------+----------------+\n",
      "|  0|     0|        0|          0|     0|          0|        0|          0|               0|\n",
      "+---+------+---------+-----------+------+-----------+---------+-----------+----------------+\n",
      "\n"
     ]
    }
   ],
   "source": [
    "from pyspark.sql.functions import isnan, when, count, col\n",
    "\n",
    "# df.select([count(when(isnan(c), c)).alias(c) for c in df.columns]).count()\n",
    "df.select([count(when(isnan(c) | col(c).isNull(), c)).alias(c) for c in df.columns]).show()"
   ]
  },
  {
   "cell_type": "markdown",
   "metadata": {},
   "source": [
    "# Basic ALS with new normalization"
   ]
  },
  {
   "cell_type": "code",
   "execution_count": 138,
   "metadata": {},
   "outputs": [],
   "source": [
    "(training, test) = df.randomSplit([0.8, 0.2], 123)"
   ]
  },
  {
   "cell_type": "code",
   "execution_count": 109,
   "metadata": {},
   "outputs": [
    {
     "data": {
      "text/plain": [
       "0.9938771458503272"
      ]
     },
     "execution_count": 109,
     "metadata": {},
     "output_type": "execute_result"
    }
   ],
   "source": [
    "als = ALS(maxIter=5, regParam=0.01, implicitPrefs = True, userCol=\"userId\", itemCol=\"gameId\", ratingCol=\"item_normalizedH\",\n",
    "          coldStartStrategy=\"drop\").setSeed(123)\n",
    "\n",
    "model = als.fit(training)\n",
    "\n",
    "# Evaluate the model by computing the RMSE on the test data\n",
    "predictions = model.transform(test)\n",
    "evaluator = RegressionEvaluator(metricName=\"rmse\", labelCol=\"item_normalizedH\",predictionCol=\"prediction\")\n",
    "\n",
    "rmse = evaluator.evaluate(predictions)\n",
    "\n",
    "#Result\n",
    "rmse"
   ]
  },
  {
   "cell_type": "markdown",
   "metadata": {},
   "source": [
    "# Global average ALS with new normalization"
   ]
  },
  {
   "cell_type": "code",
   "execution_count": 139,
   "metadata": {},
   "outputs": [
    {
     "name": "stdout",
     "output_type": "stream",
     "text": [
      "-0.0004050004770339087\n"
     ]
    }
   ],
   "source": [
    "global_item_mean = training.groupBy().avg(\"item_normalizedH\").collect()[0]['avg(item_normalizedH)']\n",
    "training = training.withColumn('item_normalizedHAVG',abs(lit(global_item_mean)))\n",
    "print(global_item_mean)"
   ]
  },
  {
   "cell_type": "code",
   "execution_count": null,
   "metadata": {},
   "outputs": [],
   "source": [
    "# Note: I should have used absolute value for global average to be able to use "
   ]
  },
  {
   "cell_type": "code",
   "execution_count": 119,
   "metadata": {},
   "outputs": [],
   "source": [
    "# training.show()"
   ]
  },
  {
   "cell_type": "code",
   "execution_count": 120,
   "metadata": {},
   "outputs": [
    {
     "data": {
      "text/plain": [
       "1.0074705380442321"
      ]
     },
     "execution_count": 120,
     "metadata": {},
     "output_type": "execute_result"
    }
   ],
   "source": [
    "als = ALS(maxIter=5, regParam=0.01,implicitPrefs = True,userCol=\"userId\", itemCol=\"gameId\", ratingCol=\"item_normalizedHAVG\",\n",
    "          coldStartStrategy=\"drop\").setSeed(123)\n",
    "\n",
    "model = als.fit(training)\n",
    "\n",
    "# Evaluate the model by computing the RMSE on the test dataI\n",
    "predictions = model.transform(test)\n",
    "evaluator = RegressionEvaluator(metricName=\"rmse\", labelCol=\"item_normalizedH\",\n",
    "                                predictionCol=\"prediction\")\n",
    "\n",
    "rmse = evaluator.evaluate(predictions)\n",
    "\n",
    "#Result\n",
    "rmse"
   ]
  },
  {
   "cell_type": "code",
   "execution_count": 129,
   "metadata": {},
   "outputs": [
    {
     "name": "stdout",
     "output_type": "stream",
     "text": [
      "+----+---------+--------------------+-----------+------+--------------------+-------------------+-------------------+--------------------+--------------------+\n",
      "| num|   userId|           gameTitle|hoursPlayed|gameId|         normalizedH|          item_mean|        item_stddev|    item_normalizedH| item_normalizedHAVG|\n",
      "+----+---------+--------------------+-----------+------+--------------------+-------------------+-------------------+--------------------+--------------------+\n",
      "| 298| 97298878|            Mafia II|       15.9|  1829|-0.14379850135358052|  24.94310344827587|  30.57027298485587|-0.29581363086799095|4.050004770339087E-4|\n",
      "|1430| 69857045|            Mafia II|       21.0|  1829|-0.12156031375963021|  24.94310344827587|  30.57027298485587| -0.1289848949085026|4.050004770339087E-4|\n",
      "|1702|162649407|            Mafia II|       23.0|  1829| -0.1128394558796497|  24.94310344827587|  30.57027298485587|-0.06356186119889932|4.050004770339087E-4|\n",
      "|1864| 42681063|            Mafia II|       14.4|  1829|-0.15033914476356589|  24.94310344827587|  30.57027298485587| -0.3448809061501934|4.050004770339087E-4|\n",
      "|2031|234024191|The Way of Life F...|        0.2|  3175| -0.2122572357114275|0.29523809523809524|0.22985749306946993| -0.4143353952325208|4.050004770339087E-4|\n",
      "|2498| 72842694|Mortal Kombat Kol...|        0.4|  1959|-0.21138514992342944| 2.1823529411764704|   5.04791573693512|-0.35308690439009577|4.050004770339087E-4|\n",
      "|3140| 34177747|             Deponia|        7.9|   833|-0.17868193287350254|  6.588461538461539|  6.807762928794932| 0.19265336869928604|4.050004770339087E-4|\n",
      "|3221| 44866715|Mortal Kombat Kol...|        2.0|  1959|-0.20440846361944504| 2.1823529411764704|   5.04791573693512|-0.03612440275938...|4.050004770339087E-4|\n",
      "|3513| 42099265|Football Manager ...|        5.7|  1238| -0.1882748765414811|  4.085714285714286|  4.562714909671518|  0.3537993817812147|4.050004770339087E-4|\n",
      "|3677|104055167|Football Manager ...|        0.1|  1238| -0.2126932786054265|  4.085714285714286|  4.562714909671518| -0.8735400665217604|4.050004770339087E-4|\n",
      "|4307| 64787956|      RPG Maker 2003|        0.6|  2366| -0.2105130641354314|               52.4|  69.05707784144938|    -0.7501041402147|4.050004770339087E-4|\n",
      "|5216| 12610800|            Mafia II|        3.3|  1829|-0.19873990599745772|  24.94310344827587|  30.57027298485587| -0.7079787432384916|4.050004770339087E-4|\n",
      "|5608| 57798235|            Mafia II|       16.0|  1829|-0.14336245845958148|  24.94310344827587|  30.57027298485587| -0.2925424791825108|4.050004770339087E-4|\n",
      "|5966| 95911580|Europa Universali...|        5.9|  1088|-0.18740279075348304| 2.2333333333333334| 2.5978623691198286|  1.4114168287941118|4.050004770339087E-4|\n",
      "|6621| 56333620|            Mafia II|       25.0|  1829| -0.1041185979996692|  24.94310344827587|  30.57027298485587|0.001861172510703...|4.050004770339087E-4|\n",
      "|6639| 96204317|            Mafia II|       55.0|  1829|0.026694270200038422|  24.94310344827587|  30.57027298485587|  0.9832066781547532|4.050004770339087E-4|\n",
      "|7273| 84455820|             Deponia|        4.0|   833|-0.19568760573946453|  6.588461538461539|  6.807762928794932| -0.3802220443830485|4.050004770339087E-4|\n",
      "|7758|189125890|Football Manager ...|        5.9|  1238|-0.18740279075348304|  4.085714285714286|  4.562714909671518| 0.39763293350632095|4.050004770339087E-4|\n",
      "|8152|101690993|             Deponia|        5.9|   833|-0.18740279075348304|  6.588461538461539|  6.807762928794932|-0.10112889441985987|4.050004770339087E-4|\n",
      "|8296| 53898495|             Deponia|        5.7|   833| -0.1882748765414811|  6.588461538461539|  6.807762928794932|-0.13050712073177448|4.050004770339087E-4|\n",
      "+----+---------+--------------------+-----------+------+--------------------+-------------------+-------------------+--------------------+--------------------+\n",
      "only showing top 20 rows\n",
      "\n"
     ]
    }
   ],
   "source": [
    "training.show()"
   ]
  },
  {
   "cell_type": "markdown",
   "metadata": {},
   "source": [
    "# Bias ALS with new normalization"
   ]
  },
  {
   "cell_type": "code",
   "execution_count": 141,
   "metadata": {},
   "outputs": [
    {
     "ename": "AttributeError",
     "evalue": "'DataFrame' object has no attribute 'item_normalizedHAVG'",
     "output_type": "error",
     "traceback": [
      "\u001b[0;31m---------------------------------------------------------------------------\u001b[0m",
      "\u001b[0;31mAttributeError\u001b[0m                            Traceback (most recent call last)",
      "\u001b[0;32m<ipython-input-141-787f6b5e5587>\u001b[0m in \u001b[0;36m<module>\u001b[0;34m\u001b[0m\n\u001b[1;32m     25\u001b[0m \u001b[0;31m#user_item_interaction\u001b[0m\u001b[0;34m\u001b[0m\u001b[0;34m\u001b[0m\u001b[0;34m\u001b[0m\u001b[0m\n\u001b[1;32m     26\u001b[0m training = training.withColumn('user_item_interaction',training.item_normalizedH\\\n\u001b[0;32m---> 27\u001b[0;31m                                - (training.user_mean + training.item_mean - training.item_normalizedHAVG))\n\u001b[0m\u001b[1;32m     28\u001b[0m \u001b[0;34m\u001b[0m\u001b[0m\n\u001b[1;32m     29\u001b[0m \u001b[0;34m\u001b[0m\u001b[0m\n",
      "\u001b[0;32m~/Libs/spark-2.4.0-bin-hadoop2.7/python/pyspark/sql/dataframe.py\u001b[0m in \u001b[0;36m__getattr__\u001b[0;34m(self, name)\u001b[0m\n\u001b[1;32m   1298\u001b[0m         \u001b[0;32mif\u001b[0m \u001b[0mname\u001b[0m \u001b[0;32mnot\u001b[0m \u001b[0;32min\u001b[0m \u001b[0mself\u001b[0m\u001b[0;34m.\u001b[0m\u001b[0mcolumns\u001b[0m\u001b[0;34m:\u001b[0m\u001b[0;34m\u001b[0m\u001b[0;34m\u001b[0m\u001b[0m\n\u001b[1;32m   1299\u001b[0m             raise AttributeError(\n\u001b[0;32m-> 1300\u001b[0;31m                 \"'%s' object has no attribute '%s'\" % (self.__class__.__name__, name))\n\u001b[0m\u001b[1;32m   1301\u001b[0m         \u001b[0mjc\u001b[0m \u001b[0;34m=\u001b[0m \u001b[0mself\u001b[0m\u001b[0;34m.\u001b[0m\u001b[0m_jdf\u001b[0m\u001b[0;34m.\u001b[0m\u001b[0mapply\u001b[0m\u001b[0;34m(\u001b[0m\u001b[0mname\u001b[0m\u001b[0;34m)\u001b[0m\u001b[0;34m\u001b[0m\u001b[0;34m\u001b[0m\u001b[0m\n\u001b[1;32m   1302\u001b[0m         \u001b[0;32mreturn\u001b[0m \u001b[0mColumn\u001b[0m\u001b[0;34m(\u001b[0m\u001b[0mjc\u001b[0m\u001b[0;34m)\u001b[0m\u001b[0;34m\u001b[0m\u001b[0;34m\u001b[0m\u001b[0m\n",
      "\u001b[0;31mAttributeError\u001b[0m: 'DataFrame' object has no attribute 'item_normalizedHAVG'"
     ]
    }
   ],
   "source": [
    "# #################\n",
    "\n",
    "# # #global average \n",
    "# # global_mean = training.groupBy().avg(\"normalizedH\").collect()[0]['avg(normalizedH)']\n",
    "\n",
    "# #User_mean\n",
    "# user_mean = training.groupBy(\"userId\").agg({\"item_normalizedH\": \"avg\"})\n",
    "# user_mean = user_mean.withColumnRenamed('avg(item_normalizedH)', 'user_mean')\n",
    "\n",
    "# #item_mean\n",
    "# item_mean = training.groupBy('gameId').agg({\"item_normalizedH\": \"avg\"})\n",
    "# item_mean = item_mean.withColumnRenamed('avg(item_normalizedH)', 'item_mean')\n",
    "\n",
    "# #joining DFs\n",
    "# # mainDF = training.alias('mainDF')\n",
    "# userDF = user_mean.alias('userDF')\n",
    "# itemDF = item_mean.alias('itemDF')\n",
    "\n",
    "# training = training.join(userDF, training.userId == userDF.userId, 'outer')\\\n",
    "#     .select(training.userId, training.gameId, training.item_normalizedH , userDF.user_mean)\n",
    "\n",
    "# training = training.join(itemDF, training.gameId == itemDF.gameId, 'outer')\\\n",
    "#     .select(training.userId, training.gameId, training.item_normalizedH ,training.user_mean, itemDF.item_mean)\n",
    "\n",
    "# #user_item_interaction  \n",
    "# training = training.withColumn('user_item_interaction',training.item_normalizedH\\\n",
    "#                                - (training.user_mean + training.item_mean - training.item_normalizedHAVG))\n",
    "\n",
    "\n",
    "# #################\n",
    "# #####test#######\n",
    "\n",
    "# test_user_mean = user_mean.alias('test_user_mean')\n",
    "# test = test.join(test_user_mean, test.userId == test_user_mean.userId, 'inner') \\\n",
    "#     .select(test.userId, test.gameId, test.normalizedH, test_user_mean.user_mean)\n",
    "\n",
    "# test_item_mean = item_mean.alias('test_item_mean')\n",
    "# test = test.join(test_item_mean, test.gameId == test_item_mean.gameId, 'inner') \\\n",
    "#     .select(test.userId, test.gameId, test.normalizedH, test.user_mean, test_item_mean.item_mean)\n",
    "\n",
    "# als = ALS( maxIter=5, regParam=0.01,implicitPrefs = True,userCol=\"userId\", itemCol=\"gameId\", ratingCol=\"user_item_interaction\",\n",
    "#           coldStartStrategy=\"drop\").setSeed(123)\n",
    "\n",
    "\n",
    "# model = als.fit(training)\n",
    "# predictions = model.transform(test)\n",
    "\n",
    "# predictions = predictions.withColumn('prediction_calculated',\n",
    "#                                      predictions.prediction + predictions.user_mean + predictions.item_mean - global_mean)\n",
    "\n",
    "# evaluator = RegressionEvaluator(metricName=\"rmse\", labelCol=\"item_normalizedH\", predictionCol=\"prediction_calculated\")\n",
    "# rmse = evaluator.evaluate(predictions)\n",
    "\n",
    "# rmse"
   ]
  },
  {
   "cell_type": "code",
   "execution_count": null,
   "metadata": {},
   "outputs": [],
   "source": []
  },
  {
   "cell_type": "code",
   "execution_count": null,
   "metadata": {},
   "outputs": [],
   "source": []
  }
 ],
 "metadata": {
  "kernelspec": {
   "display_name": "Python 3",
   "language": "python",
   "name": "python3"
  },
  "language_info": {
   "codemirror_mode": {
    "name": "ipython",
    "version": 3
   },
   "file_extension": ".py",
   "mimetype": "text/x-python",
   "name": "python",
   "nbconvert_exporter": "python",
   "pygments_lexer": "ipython3",
   "version": "3.6.7"
  }
 },
 "nbformat": 4,
 "nbformat_minor": 2
}
