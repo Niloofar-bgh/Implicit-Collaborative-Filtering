{
 "cells": [
  {
   "cell_type": "markdown",
   "metadata": {},
   "source": [
    "# Loading the Data"
   ]
  },
  {
   "cell_type": "code",
   "execution_count": 44,
   "metadata": {},
   "outputs": [],
   "source": [
    "from pyspark.sql import SparkSession\n",
    "from pyspark import Row\n",
    "from pyspark.sql import SQLContext\n",
    "import sys\n",
    "import json\n",
    "from pyspark.ml.recommendation import ALS\n",
    "from pyspark.ml.evaluation import RegressionEvaluator\n",
    "from pyspark.sql.functions import lit\n",
    "from pyspark.ml.feature import MinMaxScaler\n",
    "from pyspark.mllib.util import MLUtils\n",
    "from pyspark.ml.feature import StandardScaler\n",
    "from pyspark.sql.functions import mean as _mean, stddev as _stddev, col"
   ]
  },
  {
   "cell_type": "code",
   "execution_count": 45,
   "metadata": {},
   "outputs": [],
   "source": [
    "spark = SparkSession \\\n",
    "    .builder \\\n",
    "    .appName(\"Python Spark SQL basic example\") \\\n",
    "    .config(\"spark.some.config.option\", \"some-value\") \\\n",
    "    .getOrCreate()\n"
   ]
  },
  {
   "cell_type": "code",
   "execution_count": 46,
   "metadata": {},
   "outputs": [],
   "source": [
    "df = spark.read.load('steam_dataset.csv', \n",
    "                      format='com.databricks.spark.csv', \n",
    "                      header='true', \n",
    "                      inferSchema='true')"
   ]
  },
  {
   "cell_type": "code",
   "execution_count": 47,
   "metadata": {},
   "outputs": [],
   "source": [
    "df = df.withColumnRenamed(\"User ID\", \"userId\").withColumnRenamed(\"_c0\", \"num\").\\\n",
    "        withColumnRenamed(\"Game Title\",\"gameTitle\").withColumnRenamed(\"Hours Played\",\"hoursPlayed\").\\\n",
    "        withColumnRenamed(\"Game ID\",\"gameId\")"
   ]
  },
  {
   "cell_type": "code",
   "execution_count": 48,
   "metadata": {},
   "outputs": [
    {
     "name": "stdout",
     "output_type": "stream",
     "text": [
      "(70489, 5)\n"
     ]
    }
   ],
   "source": [
    "print((df.count(), len(df.columns)))"
   ]
  },
  {
   "cell_type": "code",
   "execution_count": 87,
   "metadata": {},
   "outputs": [
    {
     "name": "stdout",
     "output_type": "stream",
     "text": [
      "+---+---------+--------------------+-----------+------+--------------------+\n",
      "|num|   userId|           gameTitle|hoursPlayed|gameId|         normalizedH|\n",
      "+---+---------+--------------------+-----------+------+--------------------+\n",
      "|  0|151603712|The Elder Scrolls...|      273.0|  3067|  0.9772677791179138|\n",
      "|  1|151603712|           Fallout 4|       87.0|  1162| 0.16622799627972654|\n",
      "|  2|151603712|               Spore|       14.9|  2813|-0.14815893029357077|\n",
      "|  3|151603712|   Fallout New Vegas|       12.1|  1163|-0.16036813132554348|\n",
      "|  4|151603712|       Left 4 Dead 2|        8.9|  1733|-0.17432150393351228|\n",
      "|  5|151603712|            HuniePop|        8.5|  1535|-0.17606567550950838|\n",
      "|  6|151603712|       Path of Exile|        8.1|  2197|-0.17780984708550449|\n",
      "|  7|151603712|         Poly Bridge|        7.5|  2251|-0.18042610444949864|\n",
      "|  8|151603712|         Left 4 Dead|        3.3|  1732|-0.19873990599745772|\n",
      "|  9|151603712|     Team Fortress 2|        2.8|  2994|-0.20092012046745283|\n",
      "| 10|151603712|         Tomb Raider|        2.5|  3247| -0.2022282491494499|\n",
      "| 11|151603712|     The Banner Saga|        2.0|  3024|-0.20440846361944504|\n",
      "| 12|151603712|Dead Island Epidemic|        1.4|   783| -0.2070247209834392|\n",
      "| 13|151603712|   BioShock Infinite|        1.3|   348|-0.20746076387743823|\n",
      "| 14|151603712|Dragon Age Origin...|        1.3|   934|-0.20746076387743823|\n",
      "| 15|151603712|Fallout 3 - Game ...|        0.8|  1161|-0.20964097834743337|\n",
      "| 16|151603712|SEGA Genesis & Me...|        0.8|  2535|-0.20964097834743337|\n",
      "| 17|151603712| Grand Theft Auto IV|        0.6|  1372| -0.2105130641354314|\n",
      "| 18|151603712|Realm of the Mad God|        0.5|  2401|-0.21094910702943043|\n",
      "| 19|151603712|  Marvel Heroes 2015|        0.5|  1863|-0.21094910702943043|\n",
      "+---+---------+--------------------+-----------+------+--------------------+\n",
      "only showing top 20 rows\n",
      "\n"
     ]
    }
   ],
   "source": [
    "df.show()"
   ]
  },
  {
   "cell_type": "code",
   "execution_count": 49,
   "metadata": {
    "scrolled": true
   },
   "outputs": [
    {
     "name": "stdout",
     "output_type": "stream",
     "text": [
      "+---+------+---------+-----------+------+\n",
      "|num|userId|gameTitle|hoursPlayed|gameId|\n",
      "+---+------+---------+-----------+------+\n",
      "|  0|     0|        0|          0|     0|\n",
      "+---+------+---------+-----------+------+\n",
      "\n"
     ]
    }
   ],
   "source": [
    "from pyspark.sql.functions import isnan, when, count, col\n",
    "# df.select([count(when(isnan(c), c)).alias(c) for c in df.columns]).count()\n",
    "df.select([count(when(isnan(c) | col(c).isNull(), c)).alias(c) for c in df.columns]).show()"
   ]
  },
  {
   "cell_type": "code",
   "execution_count": 50,
   "metadata": {},
   "outputs": [
    {
     "data": {
      "text/plain": [
       "11754.0"
      ]
     },
     "execution_count": 50,
     "metadata": {},
     "output_type": "execute_result"
    }
   ],
   "source": [
    "df.groupby().max('hoursPlayed').collect()[0].asDict()['max(hoursPlayed)']"
   ]
  },
  {
   "cell_type": "code",
   "execution_count": 51,
   "metadata": {},
   "outputs": [
    {
     "data": {
      "text/plain": [
       "0.1"
      ]
     },
     "execution_count": 51,
     "metadata": {},
     "output_type": "execute_result"
    }
   ],
   "source": [
    "df.groupby().min('hoursPlayed').collect()[0].asDict()['min(hoursPlayed)']"
   ]
  },
  {
   "cell_type": "code",
   "execution_count": 52,
   "metadata": {
    "scrolled": true
   },
   "outputs": [
    {
     "name": "stdout",
     "output_type": "stream",
     "text": [
      "+-----+\n",
      "|count|\n",
      "+-----+\n",
      "|70489|\n",
      "+-----+\n",
      "\n"
     ]
    }
   ],
   "source": [
    "df.groupby().count().show()"
   ]
  },
  {
   "cell_type": "markdown",
   "metadata": {},
   "source": [
    "# Filtering DF to hoursPlayed < 5000"
   ]
  },
  {
   "cell_type": "code",
   "execution_count": 53,
   "metadata": {},
   "outputs": [],
   "source": [
    "df_filtered = df.filter(df.hoursPlayed < 5000)"
   ]
  },
  {
   "cell_type": "code",
   "execution_count": 54,
   "metadata": {},
   "outputs": [
    {
     "data": {
      "text/plain": [
       "70472"
      ]
     },
     "execution_count": 54,
     "metadata": {},
     "output_type": "execute_result"
    }
   ],
   "source": [
    "df_filtered.count()"
   ]
  },
  {
   "cell_type": "code",
   "execution_count": 55,
   "metadata": {},
   "outputs": [
    {
     "data": {
      "text/plain": [
       "4845.0"
      ]
     },
     "execution_count": 55,
     "metadata": {},
     "output_type": "execute_result"
    }
   ],
   "source": [
    "df_filtered.groupby().max('hoursPlayed').collect()[0].asDict()['max(hoursPlayed)']"
   ]
  },
  {
   "cell_type": "code",
   "execution_count": 56,
   "metadata": {},
   "outputs": [
    {
     "data": {
      "text/plain": [
       "0.1"
      ]
     },
     "execution_count": 56,
     "metadata": {},
     "output_type": "execute_result"
    }
   ],
   "source": [
    "df_filtered.groupby().min('hoursPlayed').collect()[0].asDict()['min(hoursPlayed)']"
   ]
  },
  {
   "cell_type": "code",
   "execution_count": 130,
   "metadata": {},
   "outputs": [],
   "source": [
    "# df_filtered.show()"
   ]
  },
  {
   "cell_type": "markdown",
   "metadata": {},
   "source": [
    "# Filtering DF to hoursPlayed >5\n"
   ]
  },
  {
   "cell_type": "code",
   "execution_count": 141,
   "metadata": {},
   "outputs": [],
   "source": [
    "df_filtered_new = df.filter(df.hoursPlayed > 5)"
   ]
  },
  {
   "cell_type": "code",
   "execution_count": 142,
   "metadata": {},
   "outputs": [
    {
     "data": {
      "text/plain": [
       "33721"
      ]
     },
     "execution_count": 142,
     "metadata": {},
     "output_type": "execute_result"
    }
   ],
   "source": [
    "df_filtered_new.count()"
   ]
  },
  {
   "cell_type": "code",
   "execution_count": 143,
   "metadata": {},
   "outputs": [
    {
     "data": {
      "text/plain": [
       "11754.0"
      ]
     },
     "execution_count": 143,
     "metadata": {},
     "output_type": "execute_result"
    }
   ],
   "source": [
    "df_filtered_new.groupby().max('hoursPlayed').collect()[0].asDict()['max(hoursPlayed)']"
   ]
  },
  {
   "cell_type": "code",
   "execution_count": 144,
   "metadata": {},
   "outputs": [
    {
     "data": {
      "text/plain": [
       "5.1"
      ]
     },
     "execution_count": 144,
     "metadata": {},
     "output_type": "execute_result"
    }
   ],
   "source": [
    "df_filtered_new.groupby().min('hoursPlayed').collect()[0].asDict()['min(hoursPlayed)']"
   ]
  },
  {
   "cell_type": "markdown",
   "metadata": {},
   "source": [
    "# Normalization"
   ]
  },
  {
   "cell_type": "code",
   "execution_count": 57,
   "metadata": {},
   "outputs": [
    {
     "name": "stdout",
     "output_type": "stream",
     "text": [
      "48.8780632439\n",
      "229.335235997\n"
     ]
    }
   ],
   "source": [
    "df_norm = df.select(\n",
    "    _mean(col('hoursPlayed')).alias('mean'),\n",
    "    _stddev(col('hoursPlayed')).alias('std')\n",
    ").collect()\n",
    "\n",
    "mean = df_norm[0]['mean']\n",
    "std = df_norm[0]['std']\n",
    "\n",
    "print(mean)\n",
    "print(std)"
   ]
  },
  {
   "cell_type": "code",
   "execution_count": 58,
   "metadata": {},
   "outputs": [],
   "source": [
    "df = df.withColumn(\"normalizedH\", (((df['hoursPlayed']-mean)/std)))"
   ]
  },
  {
   "cell_type": "code",
   "execution_count": 107,
   "metadata": {},
   "outputs": [],
   "source": [
    "# df.show()"
   ]
  },
  {
   "cell_type": "code",
   "execution_count": 59,
   "metadata": {},
   "outputs": [
    {
     "name": "stdout",
     "output_type": "stream",
     "text": [
      "+---+------+---------+-----------+------+-----------+\n",
      "|num|userId|gameTitle|hoursPlayed|gameId|normalizedH|\n",
      "+---+------+---------+-----------+------+-----------+\n",
      "|  0|     0|        0|          0|     0|          0|\n",
      "+---+------+---------+-----------+------+-----------+\n",
      "\n"
     ]
    }
   ],
   "source": [
    "from pyspark.sql.functions import isnan, when, count, col\n",
    "# df.select([count(when(isnan(c), c)).alias(c) for c in df.columns]).count()\n",
    "df.select([count(when(isnan(c) | col(c).isNull(), c)).alias(c) for c in df.columns]).show()"
   ]
  },
  {
   "cell_type": "code",
   "execution_count": 60,
   "metadata": {},
   "outputs": [
    {
     "data": {
      "text/plain": [
       "51.039352439146015"
      ]
     },
     "execution_count": 60,
     "metadata": {},
     "output_type": "execute_result"
    }
   ],
   "source": [
    "df.groupby().max('normalizedH').collect()[0].asDict()['max(normalizedH)']"
   ]
  },
  {
   "cell_type": "code",
   "execution_count": 61,
   "metadata": {},
   "outputs": [
    {
     "data": {
      "text/plain": [
       "-0.2126932786054265"
      ]
     },
     "execution_count": 61,
     "metadata": {},
     "output_type": "execute_result"
    }
   ],
   "source": [
    "df.groupby().min('normalizedH').collect()[0].asDict()['min(normalizedH)']"
   ]
  },
  {
   "cell_type": "markdown",
   "metadata": {},
   "source": [
    "# Normalizing df_filtered "
   ]
  },
  {
   "cell_type": "code",
   "execution_count": 62,
   "metadata": {},
   "outputs": [
    {
     "name": "stdout",
     "output_type": "stream",
     "text": [
      "47.2530622091\n",
      "201.898808172\n"
     ]
    }
   ],
   "source": [
    "df_norm_filtered = df_filtered.select(\n",
    "    _mean(col('hoursPlayed')).alias('mean'),\n",
    "    _stddev(col('hoursPlayed')).alias('std')\n",
    ").collect()\n",
    "\n",
    "mean = df_norm_filtered[0]['mean']\n",
    "std = df_norm_filtered[0]['std']\n",
    "\n",
    "print(mean)\n",
    "print(std)"
   ]
  },
  {
   "cell_type": "code",
   "execution_count": 63,
   "metadata": {},
   "outputs": [],
   "source": [
    "df_filtered = df_filtered.withColumn(\"normalizedH\", (((df_filtered['hoursPlayed']-mean)/std)))"
   ]
  },
  {
   "cell_type": "code",
   "execution_count": 64,
   "metadata": {},
   "outputs": [
    {
     "data": {
      "text/plain": [
       "23.763126594138065"
      ]
     },
     "execution_count": 64,
     "metadata": {},
     "output_type": "execute_result"
    }
   ],
   "source": [
    "df_filtered.groupby().max('normalizedH').collect()[0].asDict()['max(normalizedH)']"
   ]
  },
  {
   "cell_type": "code",
   "execution_count": 65,
   "metadata": {
    "scrolled": true
   },
   "outputs": [
    {
     "data": {
      "text/plain": [
       "-0.233547996821227"
      ]
     },
     "execution_count": 65,
     "metadata": {},
     "output_type": "execute_result"
    }
   ],
   "source": [
    "df_filtered.groupby().min('normalizedH').collect()[0].asDict()['min(normalizedH)']"
   ]
  },
  {
   "cell_type": "markdown",
   "metadata": {},
   "source": [
    "# Normalizing df_filtered > 5 "
   ]
  },
  {
   "cell_type": "code",
   "execution_count": 145,
   "metadata": {},
   "outputs": [
    {
     "name": "stdout",
     "output_type": "stream",
     "text": [
      "100.467492067\n",
      "323.788343543\n"
     ]
    }
   ],
   "source": [
    "df_norm_filtered_new = df_filtered_new.select(\n",
    "    _mean(col('hoursPlayed')).alias('mean'),\n",
    "    _stddev(col('hoursPlayed')).alias('std')\n",
    ").collect()\n",
    "\n",
    "mean = df_norm_filtered_new[0]['mean']\n",
    "std = df_norm_filtered_new[0]['std']\n",
    "\n",
    "print(mean)\n",
    "print(std)"
   ]
  },
  {
   "cell_type": "code",
   "execution_count": 146,
   "metadata": {},
   "outputs": [],
   "source": [
    "df_filtered_new = df_filtered_new.withColumn(\"normalizedH\", (((df_filtered_new['hoursPlayed']-mean)/std)))"
   ]
  },
  {
   "cell_type": "code",
   "execution_count": 147,
   "metadata": {},
   "outputs": [
    {
     "data": {
      "text/plain": [
       "35.99120456414786"
      ]
     },
     "execution_count": 147,
     "metadata": {},
     "output_type": "execute_result"
    }
   ],
   "source": [
    "df_filtered_new.groupby().max('normalizedH').collect()[0].asDict()['max(normalizedH)']"
   ]
  },
  {
   "cell_type": "code",
   "execution_count": 148,
   "metadata": {},
   "outputs": [
    {
     "data": {
      "text/plain": [
       "-0.2945365204435602"
      ]
     },
     "execution_count": 148,
     "metadata": {},
     "output_type": "execute_result"
    }
   ],
   "source": [
    "df_filtered_new.groupby().min('normalizedH').collect()[0].asDict()['min(normalizedH)']"
   ]
  },
  {
   "cell_type": "code",
   "execution_count": null,
   "metadata": {},
   "outputs": [],
   "source": []
  },
  {
   "cell_type": "markdown",
   "metadata": {},
   "source": [
    "# Data Visualization buy Plotly"
   ]
  },
  {
   "cell_type": "code",
   "execution_count": 66,
   "metadata": {},
   "outputs": [
    {
     "data": {
      "text/html": [
       "<script type=\"text/javascript\">window.PlotlyConfig = {MathJaxConfig: 'local'};</script><script type=\"text/javascript\">if (window.MathJax) {MathJax.Hub.Config({SVG: {font: \"STIX-Web\"}});}</script><script>requirejs.config({paths: { 'plotly': ['https://cdn.plot.ly/plotly-latest.min']},});if(!window._Plotly) {require(['plotly'],function(plotly) {window._Plotly=plotly;});}</script>"
      ],
      "text/vnd.plotly.v1+html": [
       "<script type=\"text/javascript\">window.PlotlyConfig = {MathJaxConfig: 'local'};</script><script type=\"text/javascript\">if (window.MathJax) {MathJax.Hub.Config({SVG: {font: \"STIX-Web\"}});}</script><script>requirejs.config({paths: { 'plotly': ['https://cdn.plot.ly/plotly-latest.min']},});if(!window._Plotly) {require(['plotly'],function(plotly) {window._Plotly=plotly;});}</script>"
      ]
     },
     "metadata": {},
     "output_type": "display_data"
    },
    {
     "data": {
      "text/html": [
       "<script type=\"text/javascript\">window.PlotlyConfig = {MathJaxConfig: 'local'};</script><script type=\"text/javascript\">if (window.MathJax) {MathJax.Hub.Config({SVG: {font: \"STIX-Web\"}});}</script><script>requirejs.config({paths: { 'plotly': ['https://cdn.plot.ly/plotly-latest.min']},});if(!window._Plotly) {require(['plotly'],function(plotly) {window._Plotly=plotly;});}</script>"
      ],
      "text/vnd.plotly.v1+html": [
       "<script type=\"text/javascript\">window.PlotlyConfig = {MathJaxConfig: 'local'};</script><script type=\"text/javascript\">if (window.MathJax) {MathJax.Hub.Config({SVG: {font: \"STIX-Web\"}});}</script><script>requirejs.config({paths: { 'plotly': ['https://cdn.plot.ly/plotly-latest.min']},});if(!window._Plotly) {require(['plotly'],function(plotly) {window._Plotly=plotly;});}</script>"
      ]
     },
     "metadata": {},
     "output_type": "display_data"
    }
   ],
   "source": [
    "# Standard plotly imports\n",
    "import plotly.plotly as py\n",
    "import plotly.graph_objs as go\n",
    "from plotly.offline import iplot, init_notebook_mode\n",
    "# Using plotly + cufflinks in offline mode\n",
    "import cufflinks\n",
    "cufflinks.go_offline(connected=True)\n",
    "init_notebook_mode(connected=True)\n",
    "import matplotlib\n",
    "import numpy as np  \n",
    "import matplotlib.pyplot as plt  \n",
    "import pandas as pd  "
   ]
  },
  {
   "cell_type": "code",
   "execution_count": 67,
   "metadata": {},
   "outputs": [],
   "source": [
    "sum_hours = df.groupBy('gameId').sum('hoursPlayed').withColumnRenamed(\"sum(hoursPlayed)\",\"sum_hours\")\n",
    "# .orderBy('count(hoursPlayed)', ascending=False)"
   ]
  },
  {
   "cell_type": "code",
   "execution_count": 68,
   "metadata": {},
   "outputs": [],
   "source": [
    "h = sum_hours.toPandas() "
   ]
  },
  {
   "cell_type": "code",
   "execution_count": 69,
   "metadata": {
    "scrolled": false
   },
   "outputs": [
    {
     "data": {
      "text/plain": [
       "<matplotlib.axes._subplots.AxesSubplot at 0x7fcf6a998290>"
      ]
     },
     "execution_count": 69,
     "metadata": {},
     "output_type": "execute_result"
    },
    {
     "data": {
      "image/png": "[encoded data removed]",
      "text/plain": [
       "<Figure size 720x360 with 1 Axes>"
      ]
     },
     "metadata": {
      "needs_background": "light"
     },
     "output_type": "display_data"
    }
   ],
   "source": [
    "h.plot.scatter(y='sum_hours', x='gameId', figsize=(10,5))"
   ]
  },
  {
   "cell_type": "code",
   "execution_count": 72,
   "metadata": {
    "scrolled": true
   },
   "outputs": [
    {
     "data": {
      "text/plain": [
       "<matplotlib.axes._subplots.AxesSubplot at 0x7fcf766dab90>"
      ]
     },
     "execution_count": 72,
     "metadata": {},
     "output_type": "execute_result"
    },
    {
     "data": {
      "image/png": "[encoded data removed]",
      "text/plain": [
       "<Figure size 720x360 with 1 Axes>"
      ]
     },
     "metadata": {
      "needs_background": "light"
     },
     "output_type": "display_data"
    }
   ],
   "source": [
    "h.plot.line(y='sum_hours', x='gameId', figsize=(10,5)) "
   ]
  },
  {
   "cell_type": "code",
   "execution_count": 73,
   "metadata": {},
   "outputs": [],
   "source": [
    "visualize = df.toPandas()"
   ]
  },
  {
   "cell_type": "code",
   "execution_count": 74,
   "metadata": {
    "scrolled": false
   },
   "outputs": [
    {
     "data": {
      "text/plain": [
       "<matplotlib.axes._subplots.AxesSubplot at 0x7fcf6873acd0>"
      ]
     },
     "execution_count": 74,
     "metadata": {},
     "output_type": "execute_result"
    },
    {
     "data": {
      "image/png": "[encoded data removed]",
      "text/plain": [
       "<Figure size 720x360 with 1 Axes>"
      ]
     },
     "metadata": {
      "needs_background": "light"
     },
     "output_type": "display_data"
    }
   ],
   "source": [
    "visualize.plot.scatter(x='hoursPlayed', y='gameId', figsize=(10,5))"
   ]
  },
  {
   "cell_type": "code",
   "execution_count": 75,
   "metadata": {
    "scrolled": true
   },
   "outputs": [
    {
     "data": {
      "text/plain": [
       "<matplotlib.axes._subplots.AxesSubplot at 0x7fcf776c3e50>"
      ]
     },
     "execution_count": 75,
     "metadata": {},
     "output_type": "execute_result"
    },
    {
     "data": {
      "image/png": "[encoded data removed]",
      "text/plain": [
       "<Figure size 720x360 with 1 Axes>"
      ]
     },
     "metadata": {
      "needs_background": "light"
     },
     "output_type": "display_data"
    }
   ],
   "source": [
    "visualize['hoursPlayed'].hist( bins = range(0,150,1) , figsize=(10,5))"
   ]
  },
  {
   "cell_type": "code",
   "execution_count": 76,
   "metadata": {},
   "outputs": [
    {
     "data": {
      "text/plain": [
       "<matplotlib.axes._subplots.AxesSubplot at 0x7fcf6a8f3cd0>"
      ]
     },
     "execution_count": 76,
     "metadata": {},
     "output_type": "execute_result"
    },
    {
     "data": {
      "image/png": "[encoded data removed]",
      "text/plain": [
       "<Figure size 720x360 with 1 Axes>"
      ]
     },
     "metadata": {
      "needs_background": "light"
     },
     "output_type": "display_data"
    }
   ],
   "source": [
    "visualize['normalizedH'].hist( bins = np.linspace(-2,2,200) , figsize=(10,5))"
   ]
  },
  {
   "cell_type": "code",
   "execution_count": 77,
   "metadata": {},
   "outputs": [
    {
     "data": {
      "text/plain": [
       "<matplotlib.axes._subplots.AxesSubplot at 0x7fcf76274450>"
      ]
     },
     "execution_count": 77,
     "metadata": {},
     "output_type": "execute_result"
    },
    {
     "data": {
      "image/png": "[encoded data removed]",
      "text/plain": [
       "<Figure size 720x360 with 1 Axes>"
      ]
     },
     "metadata": {
      "needs_background": "light"
     },
     "output_type": "display_data"
    }
   ],
   "source": [
    "visualize['hoursPlayed'].plot.area(figsize=(10,5))"
   ]
  },
  {
   "cell_type": "code",
   "execution_count": 80,
   "metadata": {
    "scrolled": true
   },
   "outputs": [
    {
     "data": {
      "text/plain": [
       "<matplotlib.axes._subplots.AxesSubplot at 0x7fcf6a596ad0>"
      ]
     },
     "execution_count": 80,
     "metadata": {},
     "output_type": "execute_result"
    },
    {
     "data": {
      "image/png": "[encoded data removed]",
      "text/plain": [
       "<Figure size 720x360 with 1 Axes>"
      ]
     },
     "metadata": {
      "needs_background": "light"
     },
     "output_type": "display_data"
    }
   ],
   "source": [
    "visualize['hoursPlayed'].plot.kde(ind = np.linspace(-150,200,500),figsize=(10,5))"
   ]
  },
  {
   "cell_type": "code",
   "execution_count": 81,
   "metadata": {
    "scrolled": false
   },
   "outputs": [
    {
     "data": {
      "text/plain": [
       "<matplotlib.axes._subplots.AxesSubplot at 0x7fcf7752bf10>"
      ]
     },
     "execution_count": 81,
     "metadata": {},
     "output_type": "execute_result"
    },
    {
     "data": {
      "image/png": "[encoded data removed]",
      "text/plain": [
       "<Figure size 720x360 with 1 Axes>"
      ]
     },
     "metadata": {
      "needs_background": "light"
     },
     "output_type": "display_data"
    }
   ],
   "source": [
    "visualize['normalizedH'].plot.kde(ind = np.linspace(-2,2,200),figsize=(10,5))"
   ]
  },
  {
   "cell_type": "code",
   "execution_count": 82,
   "metadata": {},
   "outputs": [],
   "source": [
    "visualize_filtered = df_filtered.toPandas()"
   ]
  },
  {
   "cell_type": "code",
   "execution_count": 83,
   "metadata": {},
   "outputs": [],
   "source": [
    "import numpy as np"
   ]
  },
  {
   "cell_type": "code",
   "execution_count": 84,
   "metadata": {},
   "outputs": [
    {
     "data": {
      "text/plain": [
       "<matplotlib.axes._subplots.AxesSubplot at 0x7fcf75b912d0>"
      ]
     },
     "execution_count": 84,
     "metadata": {},
     "output_type": "execute_result"
    },
    {
     "data": {
      "image/png": "[encoded data removed]",
      "text/plain": [
       "<Figure size 720x360 with 1 Axes>"
      ]
     },
     "metadata": {
      "needs_background": "light"
     },
     "output_type": "display_data"
    }
   ],
   "source": [
    "visualize_filtered['normalizedH'].plot.kde(ind = np.linspace(-2,2,200),figsize=(10,5))"
   ]
  },
  {
   "cell_type": "markdown",
   "metadata": {},
   "source": [
    "# Baseline - Basic ALS"
   ]
  },
  {
   "cell_type": "markdown",
   "metadata": {},
   "source": [
    "# Main DF"
   ]
  },
  {
   "cell_type": "code",
   "execution_count": 25,
   "metadata": {},
   "outputs": [],
   "source": [
    "# df = spark.read.load('steam_data_w_game_id.csv', \n",
    "#                       format='com.databricks.spark.csv', \n",
    "#                       header='true', \n",
    "#                       inferSchema='true')\n",
    "# df = df.withColumnRenamed(\"User ID\", \"userId\").withColumnRenamed(\"_c0\", \"num\").\\\n",
    "#         withColumnRenamed(\"Game Title\",\"gameTitle\").withColumnRenamed(\"Hours Played\",\"hoursPlayed\").\\\n",
    "#         withColumnRenamed(\"Game ID\",\"gameId\")\n",
    "# df_norm = df.select(\n",
    "#     _mean(col('hoursPlayed')).alias('mean'),\n",
    "#     _stddev(col('hoursPlayed')).alias('std')\n",
    "# ).collect()\n",
    "\n",
    "# mean = df_norm[0]['mean']\n",
    "# std = df_norm[0]['std']\n",
    "# df = df.withColumn(\"normalizedH\", (df['hoursPlayed']-mean)/std)\n",
    "# (training, test) = df.randomSplit([0.8, 0.2], 123)"
   ]
  },
  {
   "cell_type": "code",
   "execution_count": 85,
   "metadata": {},
   "outputs": [
    {
     "data": {
      "text/plain": [
       "0.8551382600447174"
      ]
     },
     "execution_count": 85,
     "metadata": {},
     "output_type": "execute_result"
    }
   ],
   "source": [
    "(training, test) = df.randomSplit([0.8, 0.2], 123)\n",
    "als = ALS(rank = 10, maxIter=10, regParam=0.01, alpha= 13, implicitPrefs = True, userCol=\"userId\", itemCol=\"gameId\", ratingCol=\"normalizedH\",\n",
    "          coldStartStrategy=\"drop\").setSeed(123)\n",
    "\n",
    "model = als.fit(training)\n",
    "\n",
    "# Evaluate the model by computing the RMSE on the test data\n",
    "predictions = model.transform(test)\n",
    "evaluator = RegressionEvaluator(metricName=\"rmse\", labelCol=\"normalizedH\",predictionCol=\"prediction\")\n",
    "\n",
    "rmse = evaluator.evaluate(predictions)\n",
    "\n",
    "#Result\n",
    "rmse"
   ]
  },
  {
   "cell_type": "code",
   "execution_count": 16,
   "metadata": {},
   "outputs": [],
   "source": [
    "# df.show()"
   ]
  },
  {
   "cell_type": "markdown",
   "metadata": {},
   "source": [
    "# Filtered DF < 5000"
   ]
  },
  {
   "cell_type": "code",
   "execution_count": 86,
   "metadata": {},
   "outputs": [
    {
     "data": {
      "text/plain": [
       "0.8955676469489794"
      ]
     },
     "execution_count": 86,
     "metadata": {},
     "output_type": "execute_result"
    }
   ],
   "source": [
    "(training, test) = df_filtered.randomSplit([0.8, 0.2], 123)\n",
    "als = ALS(rank = 10, maxIter=10, regParam=0.01, alpha= 13, implicitPrefs = True, userCol=\"userId\", itemCol=\"gameId\", ratingCol=\"normalizedH\",\n",
    "          coldStartStrategy=\"drop\").setSeed(123)\n",
    "\n",
    "model = als.fit(training)\n",
    "\n",
    "# Evaluate the model by computing the RMSE on the test data\n",
    "predictions = model.transform(test)\n",
    "evaluator = RegressionEvaluator(metricName=\"rmse\", labelCol=\"normalizedH\",predictionCol=\"prediction\")\n",
    "\n",
    "rmse = evaluator.evaluate(predictions)\n",
    "\n",
    "#Result\n",
    "rmse"
   ]
  },
  {
   "cell_type": "markdown",
   "metadata": {},
   "source": [
    "# Filtered DF > 5"
   ]
  },
  {
   "cell_type": "code",
   "execution_count": 149,
   "metadata": {},
   "outputs": [
    {
     "data": {
      "text/plain": [
       "0.7298222915157959"
      ]
     },
     "execution_count": 149,
     "metadata": {},
     "output_type": "execute_result"
    }
   ],
   "source": [
    "(training, test) = df_filtered_new.randomSplit([0.8, 0.2], 123)\n",
    "als = ALS(rank = 10, maxIter=10, regParam=0.01, alpha= 13, implicitPrefs = True, userCol=\"userId\", itemCol=\"gameId\", ratingCol=\"normalizedH\",\n",
    "          coldStartStrategy=\"drop\").setSeed(123)\n",
    "\n",
    "model = als.fit(training)\n",
    "\n",
    "# Evaluate the model by computing the RMSE on the test data\n",
    "predictions = model.transform(test)\n",
    "evaluator = RegressionEvaluator(metricName=\"rmse\", labelCol=\"normalizedH\",predictionCol=\"prediction\")\n",
    "\n",
    "rmse = evaluator.evaluate(predictions)\n",
    "\n",
    "#Result\n",
    "rmse"
   ]
  },
  {
   "cell_type": "markdown",
   "metadata": {},
   "source": [
    "# Filtered DF >2"
   ]
  },
  {
   "cell_type": "code",
   "execution_count": 114,
   "metadata": {},
   "outputs": [
    {
     "data": {
      "text/plain": [
       "0.9219532392459633"
      ]
     },
     "execution_count": 114,
     "metadata": {},
     "output_type": "execute_result"
    }
   ],
   "source": [
    "(training, test) = df_filtered_new.randomSplit([0.8, 0.2], 123)\n",
    "als = ALS(rank = 10, maxIter=10, regParam=0.01, alpha= 13, implicitPrefs = True, userCol=\"userId\", itemCol=\"gameId\", ratingCol=\"normalizedH\",\n",
    "          coldStartStrategy=\"drop\").setSeed(123)\n",
    "\n",
    "model = als.fit(training)\n",
    "\n",
    "# Evaluate the model by computing the RMSE on the test data\n",
    "predictions = model.transform(test)\n",
    "evaluator = RegressionEvaluator(metricName=\"rmse\", labelCol=\"normalizedH\",predictionCol=\"prediction\")\n",
    "\n",
    "rmse = evaluator.evaluate(predictions)\n",
    "\n",
    "#Result\n",
    "rmse"
   ]
  },
  {
   "cell_type": "markdown",
   "metadata": {},
   "source": [
    "# Filtered DF>3"
   ]
  },
  {
   "cell_type": "code",
   "execution_count": 123,
   "metadata": {},
   "outputs": [
    {
     "data": {
      "text/plain": [
       "0.857043885881333"
      ]
     },
     "execution_count": 123,
     "metadata": {},
     "output_type": "execute_result"
    }
   ],
   "source": [
    "(training, test) = df_filtered_new.randomSplit([0.8, 0.2], 123)\n",
    "als = ALS(rank = 10, maxIter=10, regParam=0.01, alpha= 13, implicitPrefs = True, userCol=\"userId\", itemCol=\"gameId\", ratingCol=\"normalizedH\",\n",
    "          coldStartStrategy=\"drop\").setSeed(123)\n",
    "\n",
    "model = als.fit(training)\n",
    "\n",
    "# Evaluate the model by computing the RMSE on the test data\n",
    "predictions = model.transform(test)\n",
    "evaluator = RegressionEvaluator(metricName=\"rmse\", labelCol=\"normalizedH\",predictionCol=\"prediction\")\n",
    "\n",
    "rmse = evaluator.evaluate(predictions)\n",
    "\n",
    "#Result\n",
    "rmse"
   ]
  },
  {
   "cell_type": "markdown",
   "metadata": {},
   "source": [
    "# Filtered DF>4"
   ]
  },
  {
   "cell_type": "code",
   "execution_count": 140,
   "metadata": {},
   "outputs": [
    {
     "data": {
      "text/plain": [
       "0.9497821616527128"
      ]
     },
     "execution_count": 140,
     "metadata": {},
     "output_type": "execute_result"
    }
   ],
   "source": [
    "(training, test) = df_filtered_new.randomSplit([0.8, 0.2], 123)\n",
    "als = ALS(rank = 10, maxIter=10, regParam=0.01, alpha= 13, implicitPrefs = True, userCol=\"userId\", itemCol=\"gameId\", ratingCol=\"normalizedH\",\n",
    "          coldStartStrategy=\"drop\").setSeed(123)\n",
    "\n",
    "model = als.fit(training)\n",
    "\n",
    "# Evaluate the model by computing the RMSE on the test data\n",
    "predictions = model.transform(test)\n",
    "evaluator = RegressionEvaluator(metricName=\"rmse\", labelCol=\"normalizedH\",predictionCol=\"prediction\")\n",
    "\n",
    "rmse = evaluator.evaluate(predictions)\n",
    "\n",
    "#Result\n",
    "rmse"
   ]
  },
  {
   "cell_type": "markdown",
   "metadata": {},
   "source": [
    "# ALS Global Average"
   ]
  },
  {
   "cell_type": "code",
   "execution_count": 12,
   "metadata": {},
   "outputs": [],
   "source": [
    "# df = spark.read.load('steam_data_w_game_id.csv', \n",
    "#                       format='com.databricks.spark.csv', \n",
    "#                       header='true', \n",
    "#                       inferSchema='true')\n",
    "# df = df.withColumnRenamed(\"User ID\", \"userId\").withColumnRenamed(\"_c0\", \"num\").\\\n",
    "#         withColumnRenamed(\"Game Title\",\"gameTitle\").withColumnRenamed(\"Hours Played\",\"hoursPlayed\").\\\n",
    "#         withColumnRenamed(\"Game ID\",\"gameId\")\n",
    "# df_norm = df.select(\n",
    "#     _mean(col('hoursPlayed')).alias('mean'),\n",
    "#     _stddev(col('hoursPlayed')).alias('std')\n",
    "# ).collect()\n",
    "\n",
    "# mean = df_norm[0]['mean']\n",
    "# std = df_norm[0]['std']\n",
    "# df = df.withColumn(\"normalizedH\", (df['hoursPlayed']-mean)/std)\n",
    "# (training, test) = df.randomSplit([0.8, 0.2], 123)"
   ]
  },
  {
   "cell_type": "code",
   "execution_count": 18,
   "metadata": {},
   "outputs": [
    {
     "name": "stdout",
     "output_type": "stream",
     "text": [
      "+---+---------+--------------------+-----------+------+--------------------+\n",
      "|num|   userId|           gameTitle|hoursPlayed|gameId|         normalizedH|\n",
      "+---+---------+--------------------+-----------+------+--------------------+\n",
      "|  1|151603712|           Fallout 4|       87.0|  1162| 0.16622799627972654|\n",
      "|  2|151603712|               Spore|       14.9|  2813|-0.14815893029357077|\n",
      "|  3|151603712|   Fallout New Vegas|       12.1|  1163|-0.16036813132554348|\n",
      "|  8|151603712|         Left 4 Dead|        3.3|  1732|-0.19873990599745772|\n",
      "| 10|151603712|         Tomb Raider|        2.5|  3247| -0.2022282491494499|\n",
      "| 16|151603712|SEGA Genesis & Me...|        0.8|  2535|-0.20964097834743337|\n",
      "| 24|151603712|         Garry's Mod|        0.1|  1313| -0.2126932786054265|\n",
      "| 27| 59945701|Ultra Street Figh...|      238.0|  3327|  0.8246527662182549|\n",
      "| 29| 59945701|The Elder Scrolls...|       58.0|  3067|0.039775557020009185|\n",
      "| 32| 59945701|Company of Heroes...|       10.2|   641|-0.16865294631152494|\n",
      "| 42| 59945701|      Orcs Must Die!|        0.7|  2131|-0.21007702124143235|\n",
      "| 48| 59945701|     Team Fortress 2|        0.1|  2994| -0.2126932786054265|\n",
      "| 51| 53875128|       Left 4 Dead 2|       71.0|  1733| 0.09646113323988248|\n",
      "| 58| 53875128|       Rocket League|       34.0|  2488|-0.06487473753975691|\n",
      "| 61| 53875128|           Prototype|       25.0|  2308| -0.1041185979996692|\n",
      "| 64| 53875128|        Just Cause 2|       23.0|  1634| -0.1128394558796497|\n",
      "| 70| 53875128| RUNNING WITH RIFLES|       18.5|  2371|-0.13246138610960584|\n",
      "| 77| 53875128|South Park The St...|       12.2|  2767|-0.15993208843154444|\n",
      "| 78| 53875128|       Sleeping Dogs|       11.5|  2727|-0.16298438868953763|\n",
      "| 80| 53875128|       Saints Row IV|       11.1|  2554|-0.16472856026553373|\n",
      "+---+---------+--------------------+-----------+------+--------------------+\n",
      "only showing top 20 rows\n",
      "\n"
     ]
    }
   ],
   "source": [
    "test.show()"
   ]
  },
  {
   "cell_type": "code",
   "execution_count": 20,
   "metadata": {},
   "outputs": [
    {
     "name": "stdout",
     "output_type": "stream",
     "text": [
      "+---+---------+--------------------+-----------+------+--------------------+--------------------+\n",
      "|num|   userId|           gameTitle|hoursPlayed|gameId|         normalizedH|      normalizedHAVG|\n",
      "+---+---------+--------------------+-----------+------+--------------------+--------------------+\n",
      "|  0|151603712|The Elder Scrolls...|      273.0|  3067|  0.9772677791179138|0.001253190493281...|\n",
      "|  4|151603712|       Left 4 Dead 2|        8.9|  1733|-0.17432150393351228|0.001253190493281...|\n",
      "|  5|151603712|            HuniePop|        8.5|  1535|-0.17606567550950838|0.001253190493281...|\n",
      "|  6|151603712|       Path of Exile|        8.1|  2197|-0.17780984708550449|0.001253190493281...|\n",
      "|  7|151603712|         Poly Bridge|        7.5|  2251|-0.18042610444949864|0.001253190493281...|\n",
      "|  9|151603712|     Team Fortress 2|        2.8|  2994|-0.20092012046745283|0.001253190493281...|\n",
      "| 11|151603712|     The Banner Saga|        2.0|  3024|-0.20440846361944504|0.001253190493281...|\n",
      "| 12|151603712|Dead Island Epidemic|        1.4|   783| -0.2070247209834392|0.001253190493281...|\n",
      "| 13|151603712|   BioShock Infinite|        1.3|   348|-0.20746076387743823|0.001253190493281...|\n",
      "| 14|151603712|Dragon Age Origin...|        1.3|   934|-0.20746076387743823|0.001253190493281...|\n",
      "| 15|151603712|Fallout 3 - Game ...|        0.8|  1161|-0.20964097834743337|0.001253190493281...|\n",
      "| 17|151603712| Grand Theft Auto IV|        0.6|  1372| -0.2105130641354314|0.001253190493281...|\n",
      "| 18|151603712|Realm of the Mad God|        0.5|  2401|-0.21094910702943043|0.001253190493281...|\n",
      "| 19|151603712|  Marvel Heroes 2015|        0.5|  1863|-0.21094910702943043|0.001253190493281...|\n",
      "| 20|151603712|             Eldevin|        0.5|  1025|-0.21094910702943043|0.001253190493281...|\n",
      "| 21|151603712|              Dota 2|        0.5|   922|-0.21094910702943043|0.001253190493281...|\n",
      "| 22|151603712|            BioShock|        0.5|   346|-0.21094910702943043|0.001253190493281...|\n",
      "| 23|151603712|           Robocraft|        0.4|  2482|-0.21138514992342944|0.001253190493281...|\n",
      "| 25|151603712|            Jazzpunk|        0.1|  1619| -0.2126932786054265|0.001253190493281...|\n",
      "| 26|187131847|              Dota 2|        2.3|   922|-0.20310033493744797|0.001253190493281...|\n",
      "+---+---------+--------------------+-----------+------+--------------------+--------------------+\n",
      "only showing top 20 rows\n",
      "\n"
     ]
    }
   ],
   "source": [
    "training.show()"
   ]
  },
  {
   "cell_type": "code",
   "execution_count": 294,
   "metadata": {},
   "outputs": [
    {
     "name": "stdout",
     "output_type": "stream",
     "text": [
      "0.0012531904932816308\n"
     ]
    }
   ],
   "source": [
    "global_mean = training.groupBy().avg(\"normalizedH\").collect()[0]['avg(normalizedH)']\n",
    "training = training.withColumn('normalizedHAVG',lit(global_mean))\n",
    "print(global_mean)"
   ]
  },
  {
   "cell_type": "code",
   "execution_count": 295,
   "metadata": {},
   "outputs": [
    {
     "data": {
      "text/plain": [
       "0.8803801031927555"
      ]
     },
     "execution_count": 295,
     "metadata": {},
     "output_type": "execute_result"
    }
   ],
   "source": [
    "als = ALS(rank = 10, maxIter=10, regParam=0.01, alpha= 13, implicitPrefs = True,userCol=\"userId\", itemCol=\"gameId\", ratingCol=\"normalizedHAVG\",\n",
    "          coldStartStrategy=\"drop\").setSeed(123)\n",
    "\n",
    "model = als.fit(training)\n",
    "\n",
    "# Evaluate the model by computing the RMSE on the test dataI\n",
    "predictions = model.transform(test)\n",
    "evaluator = RegressionEvaluator(metricName=\"rmse\", labelCol=\"normalizedH\",\n",
    "                                predictionCol=\"prediction\")\n",
    "\n",
    "rmse = evaluator.evaluate(predictions)\n",
    "\n",
    "#Result\n",
    "rmse"
   ]
  },
  {
   "cell_type": "markdown",
   "metadata": {},
   "source": [
    "# ALS with Bias"
   ]
  },
  {
   "cell_type": "code",
   "execution_count": 28,
   "metadata": {},
   "outputs": [],
   "source": [
    "# df = spark.read.load('steam_dataset.csv', \n",
    "#                       format='com.databricks.spark.csv', \n",
    "#                       header='true', \n",
    "#                       inferSchema='true')\n",
    "# df = df.withColumnRenamed(\"User ID\", \"userId\").withColumnRenamed(\"_c0\", \"num\").\\\n",
    "#         withColumnRenamed(\"Game Title\",\"gameTitle\").withColumnRenamed(\"Hours Played\",\"hoursPlayed\").\\\n",
    "#         withColumnRenamed(\"Game ID\",\"gameId\")\n",
    "# df_norm = df.select(\n",
    "#     _mean(col('hoursPlayed')).alias('mean'),\n",
    "#     _stddev(col('hoursPlayed')).alias('std')\n",
    "# ).collect()\n",
    "\n",
    "# mean = df_norm[0]['mean']\n",
    "# std = df_norm[0]['std']\n",
    "# df = df.withColumn(\"normalizedH\", (df['hoursPlayed']-mean)/std)\n",
    "# (training, test) = df.randomSplit([0.8, 0.2], 123)"
   ]
  },
  {
   "cell_type": "code",
   "execution_count": 296,
   "metadata": {},
   "outputs": [
    {
     "data": {
      "text/plain": [
       "0.9299355411105491"
      ]
     },
     "execution_count": 296,
     "metadata": {},
     "output_type": "execute_result"
    }
   ],
   "source": [
    "#################\n",
    "\n",
    "#global average \n",
    "# global_mean = training.groupBy().avg(\"normalizedH\").collect()[0]['avg(normalizedH)']\n",
    "\n",
    "#User_mean\n",
    "user_mean = training.groupBy(\"userId\").agg({\"normalizedH\": \"avg\"})\n",
    "user_mean = user_mean.withColumnRenamed('avg(normalizedH)', 'user_mean')\n",
    "\n",
    "#item_mean\n",
    "item_mean = training.groupBy('gameId').agg({\"normalizedH\": \"avg\"})\n",
    "item_mean = item_mean.withColumnRenamed('avg(normalizedH)', 'item_mean')\n",
    "\n",
    "#joining DFs\n",
    "# mainDF = training.alias('mainDF')\n",
    "userDF = user_mean.alias('userDF')\n",
    "itemDF = item_mean.alias('itemDF')\n",
    "\n",
    "training = training.join(userDF, training.userId == userDF.userId, 'outer')\\\n",
    "    .select(training.userId, training.gameId, training.normalizedH , userDF.user_mean)\n",
    "\n",
    "training = training.join(itemDF, training.gameId == itemDF.gameId, 'outer')\\\n",
    "    .select(training.userId, training.gameId, training.normalizedH ,training.user_mean, itemDF.item_mean)\n",
    "\n",
    "#user_item_interaction  \n",
    "training = training.withColumn('user_item_interaction',training.normalizedH\\\n",
    "                               - (training.user_mean + training.item_mean - global_mean))\n",
    "\n",
    "\n",
    "#################\n",
    "#####test#######\n",
    "\n",
    "test_user_mean = user_mean.alias('test_user_mean')\n",
    "test = test.join(test_user_mean, test.userId == test_user_mean.userId, 'inner') \\\n",
    "    .select(test.userId, test.gameId, test.normalizedH, test_user_mean.user_mean)\n",
    "\n",
    "test_item_mean = item_mean.alias('test_item_mean')\n",
    "test = test.join(test_item_mean, test.gameId == test_item_mean.gameId, 'inner') \\\n",
    "    .select(test.userId, test.gameId, test.normalizedH, test.user_mean, test_item_mean.item_mean)\n",
    "\n",
    "als = ALS( rank = 10, maxIter=10, regParam=0.01, alpha= 13, implicitPrefs = True,userCol=\"userId\", itemCol=\"gameId\", ratingCol=\"user_item_interaction\",\n",
    "          coldStartStrategy=\"drop\").setSeed(123)\n",
    "\n",
    "\n",
    "model = als.fit(training)\n",
    "predictions = model.transform(test)\n",
    "\n",
    "predictions = predictions.withColumn('prediction_calculated',\n",
    "                                     predictions.prediction + predictions.user_mean + predictions.item_mean - global_mean)\n",
    "\n",
    "evaluator = RegressionEvaluator(metricName=\"rmse\", labelCol=\"normalizedH\", predictionCol=\"prediction_calculated\")\n",
    "rmse = evaluator.evaluate(predictions)\n",
    "\n",
    "rmse\n"
   ]
  },
  {
   "cell_type": "markdown",
   "metadata": {},
   "source": [
    "# Normalization based on Game ID - Version 1.1"
   ]
  },
  {
   "cell_type": "code",
   "execution_count": 164,
   "metadata": {},
   "outputs": [],
   "source": [
    "df = spark.read.load('steam_dataset.csv', \n",
    "                      format='com.databricks.spark.csv', \n",
    "                      header='true', \n",
    "                      inferSchema='true')\n",
    "df = df.withColumnRenamed(\"User ID\", \"userId\").withColumnRenamed(\"_c0\", \"num\").\\\n",
    "        withColumnRenamed(\"Game Title\",\"gameTitle\").withColumnRenamed(\"Hours Played\",\"hoursPlayed\").\\\n",
    "        withColumnRenamed(\"Game ID\",\"gameId\")\n"
   ]
  },
  {
   "cell_type": "code",
   "execution_count": 165,
   "metadata": {},
   "outputs": [],
   "source": [
    "from pyspark.sql.functions import *\n",
    "#item_mean\n",
    "item_mean = df.groupBy('gameId').agg({\"hoursPlayed\": \"avg\"})\n",
    "item_mean = item_mean.withColumnRenamed('avg(hoursPlayed)', 'item_mean')\n",
    "\n",
    "#item_std\n",
    "item_stddev = df.groupBy('gameId').agg(stddev_pop(\"hoursPlayed\"))\n",
    "item_stddev = item_stddev.withColumnRenamed('stddev_pop(hoursPlayed)', 'item_stddev')\n",
    "\n",
    "#joining DFs\n",
    "itemDF = item_mean.alias('itemDF')\n",
    "itemsdDF = item_stddev.alias('itemsdDF')\n",
    "\n",
    "from pyspark.sql.functions import * #for decs or asc\n",
    "\n",
    "df = df.join(itemDF, df.gameId == itemDF.gameId, 'inner')\\\n",
    "    .select( df.num, df.userId, df.gameTitle, df.hoursPlayed ,df.gameId, itemDF.item_mean)#.orderBy(asc(\"num\"))\n",
    "\n",
    "df = df.join(itemsdDF, df.gameId == itemsdDF.gameId, 'inner')\\\n",
    "    .select( df.num, df.userId, df.gameTitle, df.hoursPlayed ,df.gameId, df.item_mean , itemsdDF.item_stddev)\n"
   ]
  },
  {
   "cell_type": "code",
   "execution_count": 167,
   "metadata": {},
   "outputs": [],
   "source": [
    "df = df.withColumn(\"item_normalizedH\", (((df['hoursPlayed']-df['item_mean'])/df['item_stddev'])))"
   ]
  },
  {
   "cell_type": "code",
   "execution_count": null,
   "metadata": {},
   "outputs": [],
   "source": [
    "# + (2.022429040605209)"
   ]
  },
  {
   "cell_type": "code",
   "execution_count": 169,
   "metadata": {},
   "outputs": [],
   "source": [
    "df = df.na.fill(0)"
   ]
  },
  {
   "cell_type": "code",
   "execution_count": 145,
   "metadata": {},
   "outputs": [],
   "source": [
    "# df.show()"
   ]
  },
  {
   "cell_type": "code",
   "execution_count": 48,
   "metadata": {},
   "outputs": [
    {
     "name": "stdout",
     "output_type": "stream",
     "text": [
      "(70489, 8)\n"
     ]
    }
   ],
   "source": [
    "print((df.count(), len(df.columns)))"
   ]
  },
  {
   "cell_type": "code",
   "execution_count": 170,
   "metadata": {},
   "outputs": [
    {
     "name": "stdout",
     "output_type": "stream",
     "text": [
      "+---+------+---------+-----------+------+---------+-----------+----------------+\n",
      "|num|userId|gameTitle|hoursPlayed|gameId|item_mean|item_stddev|item_normalizedH|\n",
      "+---+------+---------+-----------+------+---------+-----------+----------------+\n",
      "|  0|     0|        0|          0|     0|        0|          0|               0|\n",
      "+---+------+---------+-----------+------+---------+-----------+----------------+\n",
      "\n"
     ]
    }
   ],
   "source": [
    "from pyspark.sql.functions import isnan, when, count, col\n",
    "\n",
    "# df.select([count(when(isnan(c), c)).alias(c) for c in df.columns]).count()\n",
    "df.select([count(when(isnan(c) | col(c).isNull(), c)).alias(c) for c in df.columns]).show()"
   ]
  },
  {
   "cell_type": "code",
   "execution_count": 160,
   "metadata": {},
   "outputs": [
    {
     "data": {
      "text/plain": [
       "30.855317831282797"
      ]
     },
     "execution_count": 160,
     "metadata": {},
     "output_type": "execute_result"
    }
   ],
   "source": [
    "df.groupby().max('item_normalizedH').collect()[0].asDict()['max(item_normalizedH)']"
   ]
  },
  {
   "cell_type": "code",
   "execution_count": 161,
   "metadata": {},
   "outputs": [
    {
     "data": {
      "text/plain": [
       "-2.022429040605209"
      ]
     },
     "execution_count": 161,
     "metadata": {},
     "output_type": "execute_result"
    }
   ],
   "source": [
    "df.groupby().min('item_normalizedH').collect()[0].asDict()['min(item_normalizedH)']"
   ]
  },
  {
   "cell_type": "markdown",
   "metadata": {},
   "source": [
    "# Basic ALS with normalization 1.1"
   ]
  },
  {
   "cell_type": "code",
   "execution_count": 171,
   "metadata": {},
   "outputs": [],
   "source": [
    "(training, test) = df.randomSplit([0.8, 0.2], 123)"
   ]
  },
  {
   "cell_type": "code",
   "execution_count": 172,
   "metadata": {},
   "outputs": [
    {
     "data": {
      "text/plain": [
       "0.9907262282078395"
      ]
     },
     "execution_count": 172,
     "metadata": {},
     "output_type": "execute_result"
    }
   ],
   "source": [
    "als = ALS(maxIter=5, regParam=0.01, implicitPrefs = True, userCol=\"userId\", itemCol=\"gameId\", ratingCol=\"item_normalizedH\",\n",
    "          coldStartStrategy=\"drop\").setSeed(123)\n",
    "\n",
    "model = als.fit(training)\n",
    "\n",
    "# Evaluate the model by computing the RMSE on the test data\n",
    "predictions = model.transform(test)\n",
    "evaluator = RegressionEvaluator(metricName=\"rmse\", labelCol=\"item_normalizedH\",predictionCol=\"prediction\")\n",
    "\n",
    "rmse = evaluator.evaluate(predictions)\n",
    "\n",
    "#Result\n",
    "rmse"
   ]
  },
  {
   "cell_type": "markdown",
   "metadata": {},
   "source": [
    "# Global average ALS with normalization 1.1"
   ]
  },
  {
   "cell_type": "code",
   "execution_count": 186,
   "metadata": {},
   "outputs": [
    {
     "name": "stdout",
     "output_type": "stream",
     "text": [
      "-7.66530948607956e-05\n"
     ]
    }
   ],
   "source": [
    "global_item_mean = training.groupBy().avg(\"item_normalizedH\").collect()[0]['avg(item_normalizedH)']\n",
    "training = training.withColumn('item_normalizedHAVG',abs(lit(global_item_mean)))\n",
    "print(global_item_mean)"
   ]
  },
  {
   "cell_type": "code",
   "execution_count": null,
   "metadata": {},
   "outputs": [],
   "source": [
    "# Note: I should have used absolute value for global average to be able to use "
   ]
  },
  {
   "cell_type": "code",
   "execution_count": 119,
   "metadata": {},
   "outputs": [],
   "source": [
    "# training.show()"
   ]
  },
  {
   "cell_type": "code",
   "execution_count": 187,
   "metadata": {},
   "outputs": [
    {
     "data": {
      "text/plain": [
       "1.003689438381288"
      ]
     },
     "execution_count": 187,
     "metadata": {},
     "output_type": "execute_result"
    }
   ],
   "source": [
    "als = ALS(maxIter=5, regParam=0.01,implicitPrefs = True,userCol=\"userId\", itemCol=\"gameId\", ratingCol=\"item_normalizedHAVG\",\n",
    "          coldStartStrategy=\"drop\").setSeed(123)\n",
    "\n",
    "model = als.fit(training)\n",
    "\n",
    "# Evaluate the model by computing the RMSE on the test dataI\n",
    "predictions = model.transform(test)\n",
    "evaluator = RegressionEvaluator(metricName=\"rmse\", labelCol=\"item_normalizedH\",\n",
    "                                predictionCol=\"prediction\")\n",
    "\n",
    "rmse = evaluator.evaluate(predictions)\n",
    "\n",
    "#Result\n",
    "rmse"
   ]
  },
  {
   "cell_type": "code",
   "execution_count": 181,
   "metadata": {},
   "outputs": [],
   "source": [
    "# training.show()"
   ]
  },
  {
   "cell_type": "code",
   "execution_count": 182,
   "metadata": {},
   "outputs": [],
   "source": [
    "# test.show()"
   ]
  },
  {
   "cell_type": "markdown",
   "metadata": {},
   "source": [
    "# Bias ALS with normalization 1.1"
   ]
  },
  {
   "cell_type": "code",
   "execution_count": 188,
   "metadata": {},
   "outputs": [
    {
     "data": {
      "text/plain": [
       "1.0653275824340078"
      ]
     },
     "execution_count": 188,
     "metadata": {},
     "output_type": "execute_result"
    }
   ],
   "source": [
    "#################\n",
    "\n",
    "# #global average \n",
    "# global_mean = training.groupBy().avg(\"normalizedH\").collect()[0]['avg(normalizedH)']\n",
    "global_item_mean = -1*(global_item_mean)\n",
    "\n",
    "#User_mean\n",
    "user_mean = training.groupBy(\"userId\").agg({\"item_normalizedH\": \"avg\"})\n",
    "user_mean = user_mean.withColumnRenamed('avg(item_normalizedH)', 'user_mean')\n",
    "\n",
    "#item_mean\n",
    "item_mean = training.groupBy('gameId').agg({\"item_normalizedH\": \"avg\"})\n",
    "item_mean = item_mean.withColumnRenamed('avg(item_normalizedH)', 'item_mean')\n",
    "\n",
    "#joining DFs\n",
    "# mainDF = training.alias('mainDF')\n",
    "userDF = user_mean.alias('userDF')\n",
    "itemDF = item_mean.alias('itemDF')\n",
    "\n",
    "training = training.join(userDF, training.userId == userDF.userId, 'inner')\\\n",
    "    .select(training.userId, training.gameId, training.item_normalizedH , userDF.user_mean)\n",
    "\n",
    "training = training.join(itemDF, training.gameId == itemDF.gameId, 'inner')\\\n",
    "    .select(training.userId, training.gameId, training.item_normalizedH ,training.user_mean, itemDF.item_mean)\n",
    "\n",
    "#user_item_interaction  \n",
    "training = training.withColumn('user_item_interaction',(training.item_normalizedH \\\n",
    "                                                        - (training.user_mean + training.item_mean - global_item_mean)))\n",
    "\n",
    "\n",
    "#################\n",
    "# #####test#######\n",
    "\n",
    "test_user_mean = user_mean.alias('test_user_mean')\n",
    "test = test.join(test_user_mean, test.userId == test_user_mean.userId, 'inner') \\\n",
    "    .select(test.userId, test.gameId, test.item_normalizedH, test_user_mean.user_mean)\n",
    "\n",
    "test_itemmean = item_mean.alias('test_itemmean')\n",
    "test = test.join(test_itemmean, test.gameId == test_itemmean.gameId, 'inner') \\\n",
    "    .select(test.userId, test.gameId, test.item_normalizedH, test.user_mean, test_itemmean.item_mean)\n",
    "\n",
    "als = ALS( maxIter=5, regParam=0.01,implicitPrefs = True,userCol=\"userId\", itemCol=\"gameId\", ratingCol=\"user_item_interaction\",\n",
    "          coldStartStrategy=\"drop\").setSeed(123)\n",
    "\n",
    "\n",
    "model = als.fit(training)\n",
    "predictions = model.transform(test)\n",
    "\n",
    "predictions = predictions.withColumn('prediction_calculated',\n",
    "                                     predictions.prediction + predictions.user_mean + predictions.item_mean - global_mean)\n",
    "\n",
    "evaluator = RegressionEvaluator(metricName=\"rmse\", labelCol=\"item_normalizedH\", predictionCol=\"prediction_calculated\")\n",
    "rmse = evaluator.evaluate(predictions)\n",
    "\n",
    "rmse"
   ]
  },
  {
   "cell_type": "markdown",
   "metadata": {},
   "source": [
    "# # Normalization based on user ID - Version 1.2"
   ]
  },
  {
   "cell_type": "code",
   "execution_count": 199,
   "metadata": {},
   "outputs": [],
   "source": [
    "df = spark.read.load('steam_dataset.csv', \n",
    "                      format='com.databricks.spark.csv', \n",
    "                      header='true', \n",
    "                      inferSchema='true')\n",
    "df = df.withColumnRenamed(\"User ID\", \"userId\").withColumnRenamed(\"_c0\", \"num\").\\\n",
    "        withColumnRenamed(\"Game Title\",\"gameTitle\").withColumnRenamed(\"Hours Played\",\"hoursPlayed\").\\\n",
    "        withColumnRenamed(\"Game ID\",\"gameId\")"
   ]
  },
  {
   "cell_type": "code",
   "execution_count": 200,
   "metadata": {},
   "outputs": [],
   "source": [
    "from pyspark.sql.functions import *\n",
    "#item_mean\n",
    "user_mean = df.groupBy('userId').agg({\"hoursPlayed\": \"avg\"})\n",
    "user_mean = user_mean.withColumnRenamed('avg(hoursPlayed)', 'user_mean')\n",
    "\n",
    "#item_std\n",
    "user_stddev = df.groupBy('userId').agg(stddev_pop(\"hoursPlayed\"))\n",
    "user_stddev = user_stddev.withColumnRenamed('stddev_pop(hoursPlayed)', 'user_stddev')\n",
    "\n",
    "#joining DFs\n",
    "userDF = user_mean.alias('userDF')\n",
    "usersdDF = user_stddev.alias('usersdDF')\n",
    "\n",
    "df = df.join(userDF, df.userId == userDF.userId, 'inner')\\\n",
    "    .select( df.num, df.userId, df.gameTitle, df.hoursPlayed ,df.gameId, userDF.user_mean)#.orderBy(asc(\"num\"))\n",
    "\n",
    "df = df.join(usersdDF, df.userId == usersdDF.userId, 'inner')\\\n",
    "    .select( df.num, df.userId, df.gameTitle, df.hoursPlayed ,df.gameId, df.user_mean , usersdDF.user_stddev)\n"
   ]
  },
  {
   "cell_type": "code",
   "execution_count": 201,
   "metadata": {},
   "outputs": [],
   "source": [
    "df = df.withColumn(\"user_normalizedH\", (((df['hoursPlayed']-df['user_mean'])/df['user_stddev'])))"
   ]
  },
  {
   "cell_type": "code",
   "execution_count": 203,
   "metadata": {},
   "outputs": [],
   "source": [
    "df = df.na.fill(0)"
   ]
  },
  {
   "cell_type": "code",
   "execution_count": 204,
   "metadata": {},
   "outputs": [
    {
     "name": "stdout",
     "output_type": "stream",
     "text": [
      "+---+------+---------+-----------+------+---------+-----------+----------------+\n",
      "|num|userId|gameTitle|hoursPlayed|gameId|user_mean|user_stddev|user_normalizedH|\n",
      "+---+------+---------+-----------+------+---------+-----------+----------------+\n",
      "|  0|     0|        0|          0|     0|        0|          0|               0|\n",
      "+---+------+---------+-----------+------+---------+-----------+----------------+\n",
      "\n"
     ]
    }
   ],
   "source": [
    "from pyspark.sql.functions import isnan, when, count, col\n",
    "\n",
    "# df.select([count(when(isnan(c), c)).alias(c) for c in df.columns]).count()\n",
    "df.select([count(when(isnan(c) | col(c).isNull(), c)).alias(c) for c in df.columns]).show()"
   ]
  },
  {
   "cell_type": "code",
   "execution_count": 205,
   "metadata": {},
   "outputs": [
    {
     "data": {
      "text/plain": [
       "16.33704506121575"
      ]
     },
     "execution_count": 205,
     "metadata": {},
     "output_type": "execute_result"
    }
   ],
   "source": [
    "df.groupby().max('user_normalizedH').collect()[0].asDict()['max(user_normalizedH)']"
   ]
  },
  {
   "cell_type": "code",
   "execution_count": 206,
   "metadata": {},
   "outputs": [
    {
     "data": {
      "text/plain": [
       "-2.111522133893264"
      ]
     },
     "execution_count": 206,
     "metadata": {},
     "output_type": "execute_result"
    }
   ],
   "source": [
    "df.groupby().min('user_normalizedH').collect()[0].asDict()['min(user_normalizedH)']"
   ]
  },
  {
   "cell_type": "markdown",
   "metadata": {},
   "source": [
    "# Basic ALS with normalization 1.2"
   ]
  },
  {
   "cell_type": "code",
   "execution_count": 207,
   "metadata": {},
   "outputs": [],
   "source": [
    "(training, test) = df.randomSplit([0.8, 0.2], 123)"
   ]
  },
  {
   "cell_type": "code",
   "execution_count": 208,
   "metadata": {},
   "outputs": [
    {
     "data": {
      "text/plain": [
       "1.0305204916681345"
      ]
     },
     "execution_count": 208,
     "metadata": {},
     "output_type": "execute_result"
    }
   ],
   "source": [
    "als = ALS(maxIter=5, regParam=0.01, implicitPrefs = True, userCol=\"userId\", itemCol=\"gameId\", ratingCol=\"user_normalizedH\",\n",
    "          coldStartStrategy=\"drop\").setSeed(123)\n",
    "\n",
    "model = als.fit(training)\n",
    "\n",
    "# Evaluate the model by computing the RMSE on the test data\n",
    "predictions = model.transform(test)\n",
    "evaluator = RegressionEvaluator(metricName=\"rmse\", labelCol=\"user_normalizedH\",predictionCol=\"prediction\")\n",
    "\n",
    "rmse = evaluator.evaluate(predictions)\n",
    "\n",
    "#Result\n",
    "rmse"
   ]
  },
  {
   "cell_type": "markdown",
   "metadata": {},
   "source": [
    "# Global average ALS with normalization 1.2"
   ]
  },
  {
   "cell_type": "code",
   "execution_count": 222,
   "metadata": {},
   "outputs": [
    {
     "name": "stdout",
     "output_type": "stream",
     "text": [
      "-0.00045410581322508954\n"
     ]
    }
   ],
   "source": [
    "global_user_mean = training.groupBy().avg(\"user_normalizedH\").collect()[0]['avg(user_normalizedH)']\n",
    "training = training.withColumn('user_normalizedHAVG',abs(lit(global_user_mean)))\n",
    "print(global_user_mean)"
   ]
  },
  {
   "cell_type": "code",
   "execution_count": 218,
   "metadata": {},
   "outputs": [
    {
     "data": {
      "text/plain": [
       "1.0318710251120213"
      ]
     },
     "execution_count": 218,
     "metadata": {},
     "output_type": "execute_result"
    }
   ],
   "source": [
    "als = ALS(maxIter=5, regParam=0.01,implicitPrefs = True,userCol=\"userId\", itemCol=\"gameId\", ratingCol=\"user_normalizedHAVG\",\n",
    "          coldStartStrategy=\"drop\").setSeed(123)\n",
    "\n",
    "model = als.fit(training)\n",
    "\n",
    "# Evaluate the model by computing the RMSE on the test dataI\n",
    "predictions = model.transform(test)\n",
    "evaluator = RegressionEvaluator(metricName=\"rmse\", labelCol=\"user_normalizedH\",\n",
    "                                predictionCol=\"prediction\")\n",
    "\n",
    "rmse = evaluator.evaluate(predictions)\n",
    "\n",
    "#Result\n",
    "rmse"
   ]
  },
  {
   "cell_type": "markdown",
   "metadata": {},
   "source": [
    "# Bias ALS with normalization 1.2"
   ]
  },
  {
   "cell_type": "code",
   "execution_count": 223,
   "metadata": {},
   "outputs": [
    {
     "data": {
      "text/plain": [
       "1.091957162111561"
      ]
     },
     "execution_count": 223,
     "metadata": {},
     "output_type": "execute_result"
    }
   ],
   "source": [
    "#################\n",
    "\n",
    "# #global average \n",
    "# global_mean = training.groupBy().avg(\"normalizedH\").collect()[0]['avg(normalizedH)']\n",
    "global_item_mean = -1*(global_item_mean)\n",
    "\n",
    "#User_mean\n",
    "user_mean = training.groupBy(\"userId\").agg({\"user_normalizedH\": \"avg\"})\n",
    "user_mean = user_mean.withColumnRenamed('avg(user_normalizedH)', 'user_mean')\n",
    "\n",
    "#item_mean\n",
    "item_mean = training.groupBy('gameId').agg({\"user_normalizedH\": \"avg\"})\n",
    "item_mean = item_mean.withColumnRenamed('avg(user_normalizedH)', 'item_mean')\n",
    "\n",
    "#joining DFs\n",
    "# mainDF = training.alias('mainDF')\n",
    "userDF = user_mean.alias('userDF')\n",
    "itemDF = item_mean.alias('itemDF')\n",
    "\n",
    "training = training.join(userDF, training.userId == userDF.userId, 'inner')\\\n",
    "    .select(training.userId, training.gameId, training.user_normalizedH , userDF.user_mean)\n",
    "\n",
    "training = training.join(itemDF, training.gameId == itemDF.gameId, 'inner')\\\n",
    "    .select(training.userId, training.gameId, training.user_normalizedH ,training.user_mean, itemDF.item_mean)\n",
    "\n",
    "#user_item_interaction  \n",
    "training = training.withColumn('user_item_interaction',(training.user_normalizedH \\\n",
    "                                                        - (training.user_mean + training.item_mean - global_item_mean)))\n",
    "\n",
    "\n",
    "#################\n",
    "# #####test#######\n",
    "\n",
    "test_user_mean = user_mean.alias('test_user_mean')\n",
    "test = test.join(test_user_mean, test.userId == test_user_mean.userId, 'inner') \\\n",
    "    .select(test.userId, test.gameId, test.user_normalizedH, test_user_mean.user_mean)\n",
    "\n",
    "test_itemmean = item_mean.alias('test_itemmean')\n",
    "test = test.join(test_itemmean, test.gameId == test_itemmean.gameId, 'inner') \\\n",
    "    .select(test.userId, test.gameId, test.user_normalizedH, test.user_mean, test_itemmean.item_mean)\n",
    "\n",
    "als = ALS( maxIter=5, regParam=0.01,implicitPrefs = True,userCol=\"userId\", itemCol=\"gameId\", ratingCol=\"user_item_interaction\",\n",
    "          coldStartStrategy=\"drop\").setSeed(123)\n",
    "\n",
    "\n",
    "model = als.fit(training)\n",
    "predictions = model.transform(test)\n",
    "\n",
    "predictions = predictions.withColumn('prediction_calculated',\n",
    "                                     predictions.prediction + predictions.user_mean + predictions.item_mean - global_mean)\n",
    "\n",
    "evaluator = RegressionEvaluator(metricName=\"rmse\", labelCol=\"user_normalizedH\", predictionCol=\"prediction_calculated\")\n",
    "rmse = evaluator.evaluate(predictions)\n",
    "\n",
    "rmse"
   ]
  },
  {
   "cell_type": "code",
   "execution_count": null,
   "metadata": {},
   "outputs": [],
   "source": []
  }
 ],
 "metadata": {
  "kernelspec": {
   "display_name": "Python 3",
   "language": "python",
   "name": "python3"
  },
  "language_info": {
   "codemirror_mode": {
    "name": "ipython",
    "version": 2
   },
   "file_extension": ".py",
   "mimetype": "text/x-python",
   "name": "python",
   "nbconvert_exporter": "python",
   "pygments_lexer": "ipython2",
   "version": "2.7.15rc1"
  }
 },
 "nbformat": 4,
 "nbformat_minor": 2
}
