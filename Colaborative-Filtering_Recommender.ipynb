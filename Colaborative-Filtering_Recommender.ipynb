{
 "cells": [
  {
   "cell_type": "code",
   "execution_count": 1,
   "metadata": {},
   "outputs": [],
   "source": [
    "from pyspark.sql import SparkSession\n",
    "from pyspark import Row\n",
    "from pyspark.sql import SQLContext\n",
    "import sys\n",
    "import json\n",
    "from pyspark.ml.recommendation import ALS\n",
    "from pyspark.ml.evaluation import RegressionEvaluator\n",
    "from pyspark.sql.functions import lit\n",
    "from pyspark.ml.feature import MinMaxScaler\n",
    "from pyspark.mllib.util import MLUtils\n",
    "from pyspark.ml.feature import StandardScaler\n",
    "from pyspark.sql.functions import mean as _mean, stddev as _stddev, col"
   ]
  },
  {
   "cell_type": "code",
   "execution_count": 2,
   "metadata": {},
   "outputs": [],
   "source": [
    "spark = SparkSession \\\n",
    "    .builder \\\n",
    "    .appName(\"Python Spark SQL basic example\") \\\n",
    "    .config(\"spark.some.config.option\", \"some-value\") \\\n",
    "    .getOrCreate()\n"
   ]
  },
  {
   "cell_type": "code",
   "execution_count": 4,
   "metadata": {},
   "outputs": [],
   "source": [
    "df = spark.read.load('steam_dataset.csv', \n",
    "                      format='com.databricks.spark.csv', \n",
    "                      header='true', \n",
    "                      inferSchema='true')"
   ]
  },
  {
   "cell_type": "code",
   "execution_count": 5,
   "metadata": {},
   "outputs": [],
   "source": [
    "df = df.withColumnRenamed(\"User ID\", \"userId\").withColumnRenamed(\"_c0\", \"num\").\\\n",
    "        withColumnRenamed(\"Game Title\",\"gameTitle\").withColumnRenamed(\"Hours Played\",\"hoursPlayed\").\\\n",
    "        withColumnRenamed(\"Game ID\",\"gameId\")"
   ]
  },
  {
   "cell_type": "code",
   "execution_count": 6,
   "metadata": {},
   "outputs": [
    {
     "name": "stdout",
     "output_type": "stream",
     "text": [
      "(70489, 5)\n"
     ]
    }
   ],
   "source": [
    "print((df.count(), len(df.columns)))"
   ]
  },
  {
   "cell_type": "code",
   "execution_count": 7,
   "metadata": {},
   "outputs": [],
   "source": [
    "# df.show()"
   ]
  },
  {
   "cell_type": "markdown",
   "metadata": {},
   "source": [
    "# Normalization"
   ]
  },
  {
   "cell_type": "code",
   "execution_count": 8,
   "metadata": {},
   "outputs": [
    {
     "name": "stdout",
     "output_type": "stream",
     "text": [
      "48.878063243911484\n",
      "229.33523599681345\n"
     ]
    }
   ],
   "source": [
    "df_norm = df.select(\n",
    "    _mean(col('hoursPlayed')).alias('mean'),\n",
    "    _stddev(col('hoursPlayed')).alias('std')\n",
    ").collect()\n",
    "\n",
    "mean = df_norm[0]['mean']\n",
    "std = df_norm[0]['std']\n",
    "\n",
    "print(mean)\n",
    "print(std)"
   ]
  },
  {
   "cell_type": "code",
   "execution_count": 9,
   "metadata": {},
   "outputs": [],
   "source": [
    "df = df.withColumn(\"normalizedH\", (df['hoursPlayed']-mean)/std)"
   ]
  },
  {
   "cell_type": "code",
   "execution_count": 11,
   "metadata": {},
   "outputs": [],
   "source": [
    "# df.show()"
   ]
  },
  {
   "cell_type": "markdown",
   "metadata": {},
   "source": [
    "# Baseline - Basic ALS"
   ]
  },
  {
   "cell_type": "code",
   "execution_count": 25,
   "metadata": {},
   "outputs": [],
   "source": [
    "# df = spark.read.load('steam_data_w_game_id.csv', \n",
    "#                       format='com.databricks.spark.csv', \n",
    "#                       header='true', \n",
    "#                       inferSchema='true')\n",
    "# df = df.withColumnRenamed(\"User ID\", \"userId\").withColumnRenamed(\"_c0\", \"num\").\\\n",
    "#         withColumnRenamed(\"Game Title\",\"gameTitle\").withColumnRenamed(\"Hours Played\",\"hoursPlayed\").\\\n",
    "#         withColumnRenamed(\"Game ID\",\"gameId\")\n",
    "# df_norm = df.select(\n",
    "#     _mean(col('hoursPlayed')).alias('mean'),\n",
    "#     _stddev(col('hoursPlayed')).alias('std')\n",
    "# ).collect()\n",
    "\n",
    "# mean = df_norm[0]['mean']\n",
    "# std = df_norm[0]['std']\n",
    "# df = df.withColumn(\"normalizedH\", (df['hoursPlayed']-mean)/std)\n",
    "# (training, test) = df.randomSplit([0.8, 0.2], 123)"
   ]
  },
  {
   "cell_type": "code",
   "execution_count": 13,
   "metadata": {},
   "outputs": [
    {
     "data": {
      "text/plain": [
       "0.8612171660889554"
      ]
     },
     "execution_count": 13,
     "metadata": {},
     "output_type": "execute_result"
    }
   ],
   "source": [
    "(training, test) = df.randomSplit([0.8, 0.2], 123)\n",
    "als = ALS(maxIter=5, regParam=0.01, implicitPrefs = True, userCol=\"userId\", itemCol=\"gameId\", ratingCol=\"normalizedH\",\n",
    "          coldStartStrategy=\"drop\").setSeed(123)\n",
    "\n",
    "model = als.fit(training)\n",
    "\n",
    "# Evaluate the model by computing the RMSE on the test data\n",
    "predictions = model.transform(test)\n",
    "evaluator = RegressionEvaluator(metricName=\"rmse\", labelCol=\"normalizedH\",predictionCol=\"prediction\")\n",
    "\n",
    "rmse = evaluator.evaluate(predictions)\n",
    "\n",
    "#Result\n",
    "rmse"
   ]
  },
  {
   "cell_type": "code",
   "execution_count": 16,
   "metadata": {},
   "outputs": [],
   "source": [
    "# df.show()"
   ]
  },
  {
   "cell_type": "markdown",
   "metadata": {},
   "source": [
    "# ALS Global Average"
   ]
  },
  {
   "cell_type": "code",
   "execution_count": 12,
   "metadata": {},
   "outputs": [],
   "source": [
    "# df = spark.read.load('steam_data_w_game_id.csv', \n",
    "#                       format='com.databricks.spark.csv', \n",
    "#                       header='true', \n",
    "#                       inferSchema='true')\n",
    "# df = df.withColumnRenamed(\"User ID\", \"userId\").withColumnRenamed(\"_c0\", \"num\").\\\n",
    "#         withColumnRenamed(\"Game Title\",\"gameTitle\").withColumnRenamed(\"Hours Played\",\"hoursPlayed\").\\\n",
    "#         withColumnRenamed(\"Game ID\",\"gameId\")\n",
    "# df_norm = df.select(\n",
    "#     _mean(col('hoursPlayed')).alias('mean'),\n",
    "#     _stddev(col('hoursPlayed')).alias('std')\n",
    "# ).collect()\n",
    "\n",
    "# mean = df_norm[0]['mean']\n",
    "# std = df_norm[0]['std']\n",
    "# df = df.withColumn(\"normalizedH\", (df['hoursPlayed']-mean)/std)\n",
    "# (training, test) = df.randomSplit([0.8, 0.2], 123)"
   ]
  },
  {
   "cell_type": "code",
   "execution_count": 18,
   "metadata": {},
   "outputs": [
    {
     "name": "stdout",
     "output_type": "stream",
     "text": [
      "+---+---------+--------------------+-----------+------+--------------------+\n",
      "|num|   userId|           gameTitle|hoursPlayed|gameId|         normalizedH|\n",
      "+---+---------+--------------------+-----------+------+--------------------+\n",
      "|  1|151603712|           Fallout 4|       87.0|  1162| 0.16622799627972654|\n",
      "|  2|151603712|               Spore|       14.9|  2813|-0.14815893029357077|\n",
      "|  3|151603712|   Fallout New Vegas|       12.1|  1163|-0.16036813132554348|\n",
      "|  8|151603712|         Left 4 Dead|        3.3|  1732|-0.19873990599745772|\n",
      "| 10|151603712|         Tomb Raider|        2.5|  3247| -0.2022282491494499|\n",
      "| 16|151603712|SEGA Genesis & Me...|        0.8|  2535|-0.20964097834743337|\n",
      "| 24|151603712|         Garry's Mod|        0.1|  1313| -0.2126932786054265|\n",
      "| 27| 59945701|Ultra Street Figh...|      238.0|  3327|  0.8246527662182549|\n",
      "| 29| 59945701|The Elder Scrolls...|       58.0|  3067|0.039775557020009185|\n",
      "| 32| 59945701|Company of Heroes...|       10.2|   641|-0.16865294631152494|\n",
      "| 42| 59945701|      Orcs Must Die!|        0.7|  2131|-0.21007702124143235|\n",
      "| 48| 59945701|     Team Fortress 2|        0.1|  2994| -0.2126932786054265|\n",
      "| 51| 53875128|       Left 4 Dead 2|       71.0|  1733| 0.09646113323988248|\n",
      "| 58| 53875128|       Rocket League|       34.0|  2488|-0.06487473753975691|\n",
      "| 61| 53875128|           Prototype|       25.0|  2308| -0.1041185979996692|\n",
      "| 64| 53875128|        Just Cause 2|       23.0|  1634| -0.1128394558796497|\n",
      "| 70| 53875128| RUNNING WITH RIFLES|       18.5|  2371|-0.13246138610960584|\n",
      "| 77| 53875128|South Park The St...|       12.2|  2767|-0.15993208843154444|\n",
      "| 78| 53875128|       Sleeping Dogs|       11.5|  2727|-0.16298438868953763|\n",
      "| 80| 53875128|       Saints Row IV|       11.1|  2554|-0.16472856026553373|\n",
      "+---+---------+--------------------+-----------+------+--------------------+\n",
      "only showing top 20 rows\n",
      "\n"
     ]
    }
   ],
   "source": [
    "test.show()"
   ]
  },
  {
   "cell_type": "code",
   "execution_count": 20,
   "metadata": {},
   "outputs": [
    {
     "name": "stdout",
     "output_type": "stream",
     "text": [
      "+---+---------+--------------------+-----------+------+--------------------+--------------------+\n",
      "|num|   userId|           gameTitle|hoursPlayed|gameId|         normalizedH|      normalizedHAVG|\n",
      "+---+---------+--------------------+-----------+------+--------------------+--------------------+\n",
      "|  0|151603712|The Elder Scrolls...|      273.0|  3067|  0.9772677791179138|0.001253190493281...|\n",
      "|  4|151603712|       Left 4 Dead 2|        8.9|  1733|-0.17432150393351228|0.001253190493281...|\n",
      "|  5|151603712|            HuniePop|        8.5|  1535|-0.17606567550950838|0.001253190493281...|\n",
      "|  6|151603712|       Path of Exile|        8.1|  2197|-0.17780984708550449|0.001253190493281...|\n",
      "|  7|151603712|         Poly Bridge|        7.5|  2251|-0.18042610444949864|0.001253190493281...|\n",
      "|  9|151603712|     Team Fortress 2|        2.8|  2994|-0.20092012046745283|0.001253190493281...|\n",
      "| 11|151603712|     The Banner Saga|        2.0|  3024|-0.20440846361944504|0.001253190493281...|\n",
      "| 12|151603712|Dead Island Epidemic|        1.4|   783| -0.2070247209834392|0.001253190493281...|\n",
      "| 13|151603712|   BioShock Infinite|        1.3|   348|-0.20746076387743823|0.001253190493281...|\n",
      "| 14|151603712|Dragon Age Origin...|        1.3|   934|-0.20746076387743823|0.001253190493281...|\n",
      "| 15|151603712|Fallout 3 - Game ...|        0.8|  1161|-0.20964097834743337|0.001253190493281...|\n",
      "| 17|151603712| Grand Theft Auto IV|        0.6|  1372| -0.2105130641354314|0.001253190493281...|\n",
      "| 18|151603712|Realm of the Mad God|        0.5|  2401|-0.21094910702943043|0.001253190493281...|\n",
      "| 19|151603712|  Marvel Heroes 2015|        0.5|  1863|-0.21094910702943043|0.001253190493281...|\n",
      "| 20|151603712|             Eldevin|        0.5|  1025|-0.21094910702943043|0.001253190493281...|\n",
      "| 21|151603712|              Dota 2|        0.5|   922|-0.21094910702943043|0.001253190493281...|\n",
      "| 22|151603712|            BioShock|        0.5|   346|-0.21094910702943043|0.001253190493281...|\n",
      "| 23|151603712|           Robocraft|        0.4|  2482|-0.21138514992342944|0.001253190493281...|\n",
      "| 25|151603712|            Jazzpunk|        0.1|  1619| -0.2126932786054265|0.001253190493281...|\n",
      "| 26|187131847|              Dota 2|        2.3|   922|-0.20310033493744797|0.001253190493281...|\n",
      "+---+---------+--------------------+-----------+------+--------------------+--------------------+\n",
      "only showing top 20 rows\n",
      "\n"
     ]
    }
   ],
   "source": [
    "training.show()"
   ]
  },
  {
   "cell_type": "code",
   "execution_count": 19,
   "metadata": {},
   "outputs": [
    {
     "name": "stdout",
     "output_type": "stream",
     "text": [
      "0.0012531904932816308\n"
     ]
    }
   ],
   "source": [
    "global_mean = training.groupBy().avg(\"normalizedH\").collect()[0]['avg(normalizedH)']\n",
    "training = training.withColumn('normalizedHAVG',lit(global_mean))\n",
    "print(global_mean)"
   ]
  },
  {
   "cell_type": "code",
   "execution_count": 21,
   "metadata": {},
   "outputs": [
    {
     "data": {
      "text/plain": [
       "0.8753411684638526"
      ]
     },
     "execution_count": 21,
     "metadata": {},
     "output_type": "execute_result"
    }
   ],
   "source": [
    "als = ALS(maxIter=5, regParam=0.01,implicitPrefs = True,userCol=\"userId\", itemCol=\"gameId\", ratingCol=\"normalizedHAVG\",\n",
    "          coldStartStrategy=\"drop\").setSeed(123)\n",
    "\n",
    "model = als.fit(training)\n",
    "\n",
    "# Evaluate the model by computing the RMSE on the test dataI\n",
    "predictions = model.transform(test)\n",
    "evaluator = RegressionEvaluator(metricName=\"rmse\", labelCol=\"normalizedH\",\n",
    "                                predictionCol=\"prediction\")\n",
    "\n",
    "rmse = evaluator.evaluate(predictions)\n",
    "\n",
    "#Result\n",
    "rmse"
   ]
  },
  {
   "cell_type": "markdown",
   "metadata": {},
   "source": [
    "# ALS with Bias"
   ]
  },
  {
   "cell_type": "code",
   "execution_count": 28,
   "metadata": {},
   "outputs": [],
   "source": [
    "df = spark.read.load('steam_dataset.csv', \n",
    "                      format='com.databricks.spark.csv', \n",
    "                      header='true', \n",
    "                      inferSchema='true')\n",
    "df = df.withColumnRenamed(\"User ID\", \"userId\").withColumnRenamed(\"_c0\", \"num\").\\\n",
    "        withColumnRenamed(\"Game Title\",\"gameTitle\").withColumnRenamed(\"Hours Played\",\"hoursPlayed\").\\\n",
    "        withColumnRenamed(\"Game ID\",\"gameId\")\n",
    "df_norm = df.select(\n",
    "    _mean(col('hoursPlayed')).alias('mean'),\n",
    "    _stddev(col('hoursPlayed')).alias('std')\n",
    ").collect()\n",
    "\n",
    "mean = df_norm[0]['mean']\n",
    "std = df_norm[0]['std']\n",
    "df = df.withColumn(\"normalizedH\", (df['hoursPlayed']-mean)/std)\n",
    "(training, test) = df.randomSplit([0.8, 0.2], 123)"
   ]
  },
  {
   "cell_type": "code",
   "execution_count": 29,
   "metadata": {},
   "outputs": [
    {
     "data": {
      "text/plain": [
       "0.91869479589276"
      ]
     },
     "execution_count": 29,
     "metadata": {},
     "output_type": "execute_result"
    }
   ],
   "source": [
    "#################\n",
    "\n",
    "#global average \n",
    "# global_mean = training.groupBy().avg(\"normalizedH\").collect()[0]['avg(normalizedH)']\n",
    "\n",
    "#User_mean\n",
    "user_mean = training.groupBy(\"userId\").agg({\"normalizedH\": \"avg\"})\n",
    "user_mean = user_mean.withColumnRenamed('avg(normalizedH)', 'user_mean')\n",
    "\n",
    "#item_mean\n",
    "item_mean = training.groupBy('gameId').agg({\"normalizedH\": \"avg\"})\n",
    "item_mean = item_mean.withColumnRenamed('avg(normalizedH)', 'item_mean')\n",
    "\n",
    "#joining DFs\n",
    "# mainDF = training.alias('mainDF')\n",
    "userDF = user_mean.alias('userDF')\n",
    "itemDF = item_mean.alias('itemDF')\n",
    "\n",
    "training = training.join(userDF, training.userId == userDF.userId, 'outer')\\\n",
    "    .select(training.userId, training.gameId, training.normalizedH , userDF.user_mean)\n",
    "\n",
    "training = training.join(itemDF, training.gameId == itemDF.gameId, 'outer')\\\n",
    "    .select(training.userId, training.gameId, training.normalizedH ,training.user_mean, itemDF.item_mean)\n",
    "\n",
    "#user_item_interaction  \n",
    "training = training.withColumn('user_item_interaction',training.normalizedH\\\n",
    "                               - (training.user_mean + training.item_mean - global_mean))\n",
    "\n",
    "\n",
    "#################\n",
    "#####test#######\n",
    "\n",
    "test_user_mean = user_mean.alias('test_user_mean')\n",
    "test = test.join(test_user_mean, test.userId == test_user_mean.userId, 'inner') \\\n",
    "    .select(test.userId, test.gameId, test.normalizedH, test_user_mean.user_mean)\n",
    "\n",
    "test_item_mean = item_mean.alias('test_item_mean')\n",
    "test = test.join(test_item_mean, test.gameId == test_item_mean.gameId, 'inner') \\\n",
    "    .select(test.userId, test.gameId, test.normalizedH, test.user_mean, test_item_mean.item_mean)\n",
    "\n",
    "als = ALS( maxIter=5, regParam=0.01,implicitPrefs = True,userCol=\"userId\", itemCol=\"gameId\", ratingCol=\"user_item_interaction\",\n",
    "          coldStartStrategy=\"drop\").setSeed(123)\n",
    "\n",
    "\n",
    "model = als.fit(training)\n",
    "predictions = model.transform(test)\n",
    "\n",
    "predictions = predictions.withColumn('prediction_calculated',\n",
    "                                     predictions.prediction + predictions.user_mean + predictions.item_mean - global_mean)\n",
    "\n",
    "evaluator = RegressionEvaluator(metricName=\"rmse\", labelCol=\"normalizedH\", predictionCol=\"prediction_calculated\")\n",
    "rmse = evaluator.evaluate(predictions)\n",
    "\n",
    "rmse\n"
   ]
  },
  {
   "cell_type": "code",
   "execution_count": null,
   "metadata": {},
   "outputs": [],
   "source": [
    "df1 = test.alias('df1')\n",
    "dfu = user_mean.alias('dfu')\n",
    "test = df1.join(dfu, df1.userId == dfu.userId, 'inner') \\\n",
    "    .select(df1.userId, df1.movieId, df1.rating, dfu.user_mean)\n",
    "\n",
    "df1 = test.alias('df1')\n",
    "dfm = movie_mean.alias('dfm')\n",
    "test = df1.join(dfm, df1.movieId == dfm.movieId, 'inner') \\\n",
    "    .select(df1.userId, df1.movieId, df1.rating, df1.user_mean, dfm.item_mean)"
   ]
  },
  {
   "cell_type": "markdown",
   "metadata": {},
   "source": [
    "# Normalization based on Game ID"
   ]
  },
  {
   "cell_type": "code",
   "execution_count": 68,
   "metadata": {},
   "outputs": [],
   "source": [
    "df = spark.read.load('steam_dataset.csv', \n",
    "                      format='com.databricks.spark.csv', \n",
    "                      header='true', \n",
    "                      inferSchema='true')\n",
    "df = df.withColumnRenamed(\"User ID\", \"userId\").withColumnRenamed(\"_c0\", \"num\").\\\n",
    "        withColumnRenamed(\"Game Title\",\"gameTitle\").withColumnRenamed(\"Hours Played\",\"hoursPlayed\").\\\n",
    "        withColumnRenamed(\"Game ID\",\"gameId\")\n",
    "# df_norm = df.select(\n",
    "#     _mean(col('hoursPlayed')).alias('mean'),\n",
    "#     _stddev(col('hoursPlayed')).alias('std')\n",
    "# ).collect()\n",
    "\n",
    "# mean = df_norm[0]['mean']\n",
    "# std = df_norm[0]['std']\n",
    "# df = df.withColumn(\"normalizedH\", (df['hoursPlayed']-mean)/std)\n"
   ]
  },
  {
   "cell_type": "code",
   "execution_count": 60,
   "metadata": {
    "scrolled": true
   },
   "outputs": [],
   "source": [
    "# df.show()"
   ]
  },
  {
   "cell_type": "code",
   "execution_count": 69,
   "metadata": {},
   "outputs": [],
   "source": [
    "from pyspark.sql.functions import *"
   ]
  },
  {
   "cell_type": "code",
   "execution_count": 70,
   "metadata": {},
   "outputs": [],
   "source": [
    "#item_mean\n",
    "item_mean = df.groupBy('gameId').agg({\"hoursPlayed\": \"avg\"})\n",
    "item_mean = item_mean.withColumnRenamed('avg(hoursPlayed)', 'item_mean')\n",
    "\n",
    "#item_std\n",
    "item_stddev = df.groupBy('gameId').agg(stddev_pop(\"hoursPlayed\"))\n",
    "item_stddev = item_stddev.withColumnRenamed('stddev_pop(hoursPlayed)', 'item_stddev')\n",
    "\n",
    "#joining DFs\n",
    "itemDF = item_mean.alias('itemDF')\n",
    "itemsdDF = item_stddev.alias('itemsdDF')\n",
    "\n",
    "from pyspark.sql.functions import * #for decs or asc\n",
    "\n",
    "df = df.join(itemDF, df.gameId == itemDF.gameId, 'outer')\\\n",
    "    .select( df.num, df.userId, df.gameTitle, df.hoursPlayed ,df.gameId, itemDF.item_mean)#.orderBy(asc(\"num\"))\n",
    "\n",
    "df = df.join(itemsdDF, df.gameId == itemsdDF.gameId, 'outer')\\\n",
    "    .select( df.num, df.userId, df.gameTitle, df.hoursPlayed ,df.gameId, df.item_mean , itemsdDF.item_stddev)\n"
   ]
  },
  {
   "cell_type": "code",
   "execution_count": 71,
   "metadata": {},
   "outputs": [],
   "source": [
    "df = df.withColumn(\"item_normalizedH\", (df['hoursPlayed']-df['item_mean'])/df['item_stddev'])"
   ]
  },
  {
   "cell_type": "code",
   "execution_count": 72,
   "metadata": {},
   "outputs": [],
   "source": [
    "df = df.na.fill(0)"
   ]
  },
  {
   "cell_type": "code",
   "execution_count": 47,
   "metadata": {},
   "outputs": [],
   "source": [
    "# df.show()"
   ]
  },
  {
   "cell_type": "code",
   "execution_count": 48,
   "metadata": {},
   "outputs": [
    {
     "name": "stdout",
     "output_type": "stream",
     "text": [
      "(70489, 8)\n"
     ]
    }
   ],
   "source": [
    "print((df.count(), len(df.columns)))"
   ]
  },
  {
   "cell_type": "code",
   "execution_count": 49,
   "metadata": {},
   "outputs": [
    {
     "name": "stdout",
     "output_type": "stream",
     "text": [
      "+---+------+---------+-----------+------+---------+-----------+----------------+\n",
      "|num|userId|gameTitle|hoursPlayed|gameId|item_mean|item_stddev|item_normalizedH|\n",
      "+---+------+---------+-----------+------+---------+-----------+----------------+\n",
      "|  0|     0|        0|          0|     0|        0|          0|               0|\n",
      "+---+------+---------+-----------+------+---------+-----------+----------------+\n",
      "\n"
     ]
    }
   ],
   "source": [
    "from pyspark.sql.functions import isnan, when, count, col\n",
    "\n",
    "# df.select([count(when(isnan(c), c)).alias(c) for c in df.columns]).count()\n",
    "df.select([count(when(isnan(c) | col(c).isNull(), c)).alias(c) for c in df.columns]).show()"
   ]
  },
  {
   "cell_type": "markdown",
   "metadata": {},
   "source": [
    "# Basic ALS with new normalization"
   ]
  },
  {
   "cell_type": "code",
   "execution_count": 73,
   "metadata": {},
   "outputs": [],
   "source": [
    "(training, test) = df.randomSplit([0.8, 0.2], 123)"
   ]
  },
  {
   "cell_type": "code",
   "execution_count": 51,
   "metadata": {},
   "outputs": [
    {
     "data": {
      "text/plain": [
       "0.9938771458503272"
      ]
     },
     "execution_count": 51,
     "metadata": {},
     "output_type": "execute_result"
    }
   ],
   "source": [
    "als = ALS(maxIter=5, regParam=0.01, implicitPrefs = True, userCol=\"userId\", itemCol=\"gameId\", ratingCol=\"item_normalizedH\",\n",
    "          coldStartStrategy=\"drop\").setSeed(123)\n",
    "\n",
    "model = als.fit(training)\n",
    "\n",
    "# Evaluate the model by computing the RMSE on the test data\n",
    "predictions = model.transform(test)\n",
    "evaluator = RegressionEvaluator(metricName=\"rmse\", labelCol=\"item_normalizedH\",predictionCol=\"prediction\")\n",
    "\n",
    "rmse = evaluator.evaluate(predictions)\n",
    "\n",
    "#Result\n",
    "rmse"
   ]
  },
  {
   "cell_type": "markdown",
   "metadata": {},
   "source": [
    "# Global average ALS with new normalization"
   ]
  },
  {
   "cell_type": "code",
   "execution_count": 52,
   "metadata": {},
   "outputs": [
    {
     "name": "stdout",
     "output_type": "stream",
     "text": [
      "-0.0004050004770339087\n"
     ]
    }
   ],
   "source": [
    "global_item_mean = training.groupBy().avg(\"item_normalizedH\").collect()[0]['avg(item_normalizedH)']\n",
    "training = training.withColumn('item_normalizedHAVG',abs(lit(global_item_mean)))\n",
    "print(global_item_mean)"
   ]
  },
  {
   "cell_type": "code",
   "execution_count": null,
   "metadata": {},
   "outputs": [],
   "source": [
    "# Note: I should have used absolute value for global average to be able to use "
   ]
  },
  {
   "cell_type": "code",
   "execution_count": 119,
   "metadata": {},
   "outputs": [],
   "source": [
    "# training.show()"
   ]
  },
  {
   "cell_type": "code",
   "execution_count": 53,
   "metadata": {},
   "outputs": [
    {
     "data": {
      "text/plain": [
       "1.0074705380442321"
      ]
     },
     "execution_count": 53,
     "metadata": {},
     "output_type": "execute_result"
    }
   ],
   "source": [
    "als = ALS(maxIter=5, regParam=0.01,implicitPrefs = True,userCol=\"userId\", itemCol=\"gameId\", ratingCol=\"item_normalizedHAVG\",\n",
    "          coldStartStrategy=\"drop\").setSeed(123)\n",
    "\n",
    "model = als.fit(training)\n",
    "\n",
    "# Evaluate the model by computing the RMSE on the test dataI\n",
    "predictions = model.transform(test)\n",
    "evaluator = RegressionEvaluator(metricName=\"rmse\", labelCol=\"item_normalizedH\",\n",
    "                                predictionCol=\"prediction\")\n",
    "\n",
    "rmse = evaluator.evaluate(predictions)\n",
    "\n",
    "#Result\n",
    "rmse"
   ]
  },
  {
   "cell_type": "code",
   "execution_count": 57,
   "metadata": {},
   "outputs": [
    {
     "name": "stdout",
     "output_type": "stream",
     "text": [
      "+----+---------+--------------------+-----------+------+-------------------+-------------------+--------------------+--------------------+\n",
      "| num|   userId|           gameTitle|hoursPlayed|gameId|          item_mean|        item_stddev|    item_normalizedH| item_normalizedHAVG|\n",
      "+----+---------+--------------------+-----------+------+-------------------+-------------------+--------------------+--------------------+\n",
      "| 298| 97298878|            Mafia II|       15.9|  1829|  24.94310344827587|  30.57027298485587|-0.29581363086799095|4.050004770339087E-4|\n",
      "|1430| 69857045|            Mafia II|       21.0|  1829|  24.94310344827587|  30.57027298485587| -0.1289848949085026|4.050004770339087E-4|\n",
      "|1702|162649407|            Mafia II|       23.0|  1829|  24.94310344827587|  30.57027298485587|-0.06356186119889932|4.050004770339087E-4|\n",
      "|1864| 42681063|            Mafia II|       14.4|  1829|  24.94310344827587|  30.57027298485587| -0.3448809061501934|4.050004770339087E-4|\n",
      "|2031|234024191|The Way of Life F...|        0.2|  3175|0.29523809523809524|0.22985749306946993| -0.4143353952325208|4.050004770339087E-4|\n",
      "|2498| 72842694|Mortal Kombat Kol...|        0.4|  1959| 2.1823529411764704|   5.04791573693512|-0.35308690439009577|4.050004770339087E-4|\n",
      "|3140| 34177747|             Deponia|        7.9|   833|  6.588461538461539|  6.807762928794932| 0.19265336869928604|4.050004770339087E-4|\n",
      "|3221| 44866715|Mortal Kombat Kol...|        2.0|  1959| 2.1823529411764704|   5.04791573693512|-0.03612440275938...|4.050004770339087E-4|\n",
      "|3513| 42099265|Football Manager ...|        5.7|  1238|  4.085714285714286|  4.562714909671518|  0.3537993817812147|4.050004770339087E-4|\n",
      "|3677|104055167|Football Manager ...|        0.1|  1238|  4.085714285714286|  4.562714909671518| -0.8735400665217604|4.050004770339087E-4|\n",
      "|4307| 64787956|      RPG Maker 2003|        0.6|  2366|               52.4|  69.05707784144938|    -0.7501041402147|4.050004770339087E-4|\n",
      "|5216| 12610800|            Mafia II|        3.3|  1829|  24.94310344827587|  30.57027298485587| -0.7079787432384916|4.050004770339087E-4|\n",
      "|5608| 57798235|            Mafia II|       16.0|  1829|  24.94310344827587|  30.57027298485587| -0.2925424791825108|4.050004770339087E-4|\n",
      "|5966| 95911580|Europa Universali...|        5.9|  1088| 2.2333333333333334| 2.5978623691198286|  1.4114168287941118|4.050004770339087E-4|\n",
      "|6621| 56333620|            Mafia II|       25.0|  1829|  24.94310344827587|  30.57027298485587|0.001861172510703...|4.050004770339087E-4|\n",
      "|6639| 96204317|            Mafia II|       55.0|  1829|  24.94310344827587|  30.57027298485587|  0.9832066781547532|4.050004770339087E-4|\n",
      "|7273| 84455820|             Deponia|        4.0|   833|  6.588461538461539|  6.807762928794932| -0.3802220443830485|4.050004770339087E-4|\n",
      "|7758|189125890|Football Manager ...|        5.9|  1238|  4.085714285714286|  4.562714909671518| 0.39763293350632095|4.050004770339087E-4|\n",
      "|8152|101690993|             Deponia|        5.9|   833|  6.588461538461539|  6.807762928794932|-0.10112889441985987|4.050004770339087E-4|\n",
      "|8296| 53898495|             Deponia|        5.7|   833|  6.588461538461539|  6.807762928794932|-0.13050712073177448|4.050004770339087E-4|\n",
      "+----+---------+--------------------+-----------+------+-------------------+-------------------+--------------------+--------------------+\n",
      "only showing top 20 rows\n",
      "\n"
     ]
    }
   ],
   "source": [
    "training.show()"
   ]
  },
  {
   "cell_type": "code",
   "execution_count": 66,
   "metadata": {},
   "outputs": [
    {
     "name": "stdout",
     "output_type": "stream",
     "text": [
      "+-----+---------+--------------------+-----------+------+-------------------+-------------------+--------------------+\n",
      "|  num|   userId|           gameTitle|hoursPlayed|gameId|          item_mean|        item_stddev|    item_normalizedH|\n",
      "+-----+---------+--------------------+-----------+------+-------------------+-------------------+--------------------+\n",
      "|  951| 32592631|            Mafia II|       16.8|  1829|  24.94310344827587|  30.57027298485587| -0.2663732656986695|\n",
      "|  976| 57103808|    America's Army 3|       25.0|   148|           10.61875| 23.253957156524997|  0.6184431279028422|\n",
      "| 1151|148510973|            Mafia II|        0.5|  1829|  24.94310344827587|  30.57027298485587| -0.7995709904319362|\n",
      "| 2310| 92914917|          Stellar 2D|        2.4|  2866|               2.55|0.15000000000000013| -0.9999999999999986|\n",
      "| 2936| 61676491|            Mafia II|        5.2|  1829|  24.94310344827587|  30.57027298485587| -0.6458268612143685|\n",
      "| 4687| 93575977|            Mafia II|        4.4|  1829|  24.94310344827587|  30.57027298485587| -0.6719960746982099|\n",
      "| 8140|101690993|            Influent|       13.5|  1580|               7.15|               6.35|                 1.0|\n",
      "| 8352| 77830706|            Mafia II|       35.0|  1829|  24.94310344827587|  30.57027298485587| 0.32897634105872037|\n",
      "| 9124| 43360645|Mortal Kombat Kol...|        0.3|  1959| 2.1823529411764704|   5.04791573693512|-0.37289706074201534|\n",
      "|10161| 24469287|  Out There  Edition|        0.5|  2142|  3.766666666666667|  2.423954528359712| -1.3476600441334259|\n",
      "|11707|131785763|The Way of Life F...|        0.3|  3175|0.29523809523809524|0.22985749306946993|0.020716769761625967|\n",
      "|14117|206014489|            Mafia II|        1.3|  1829|  24.94310344827587|  30.57027298485587| -0.7734017769480949|\n",
      "|14935|122026623|            Mafia II|       21.0|  1829|  24.94310344827587|  30.57027298485587| -0.1289848949085026|\n",
      "|16613|151465345|            Mafia II|       22.0|  1829|  24.94310344827587|  30.57027298485587|-0.09627337805370097|\n",
      "|17959| 11978743|            Mafia II|        0.9|  1829|  24.94310344827587|  30.57027298485587| -0.7864863836900157|\n",
      "|18912| 49893565|Mortal Kombat Kol...|        1.3|  1959| 2.1823529411764704|   5.04791573693512|-0.17479549722281965|\n",
      "|21484| 49372322|            Mafia II|       72.0|  1829|  24.94310344827587|  30.57027298485587|   1.539302464686381|\n",
      "|23836| 80189887|            Mafia II|       38.0|  1829|  24.94310344827587|  30.57027298485587| 0.42711089162312527|\n",
      "|24142|184594362|The Way of Life F...|        0.1|  3175|0.29523809523809524|0.22985749306946993| -0.8493875602266677|\n",
      "|24509|138941587|             Deponia|       30.0|   833|  6.588461538461539|  6.807762928794932|  3.4389473761658484|\n",
      "+-----+---------+--------------------+-----------+------+-------------------+-------------------+--------------------+\n",
      "only showing top 20 rows\n",
      "\n"
     ]
    }
   ],
   "source": [
    "test.show()"
   ]
  },
  {
   "cell_type": "markdown",
   "metadata": {},
   "source": [
    "# Bias ALS with new normalization"
   ]
  },
  {
   "cell_type": "code",
   "execution_count": 89,
   "metadata": {},
   "outputs": [
    {
     "data": {
      "text/plain": [
       "1.0618828292342712"
      ]
     },
     "execution_count": 89,
     "metadata": {},
     "output_type": "execute_result"
    }
   ],
   "source": [
    "#################\n",
    "\n",
    "# #global average \n",
    "# global_mean = training.groupBy().avg(\"normalizedH\").collect()[0]['avg(normalizedH)']\n",
    "global_item_mean = -1*(global_item_mean)\n",
    "\n",
    "#User_mean\n",
    "user_mean = training.groupBy(\"userId\").agg({\"item_normalizedH\": \"avg\"})\n",
    "user_mean = user_mean.withColumnRenamed('avg(item_normalizedH)', 'user_mean')\n",
    "\n",
    "#item_mean\n",
    "item_mean = training.groupBy('gameId').agg({\"item_normalizedH\": \"avg\"})\n",
    "item_mean = item_mean.withColumnRenamed('avg(item_normalizedH)', 'item_mean')\n",
    "\n",
    "#joining DFs\n",
    "# mainDF = training.alias('mainDF')\n",
    "userDF = user_mean.alias('userDF')\n",
    "itemDF = item_mean.alias('itemDF')\n",
    "\n",
    "training = training.join(userDF, training.userId == userDF.userId, 'outer')\\\n",
    "    .select(training.userId, training.gameId, training.item_normalizedH , userDF.user_mean)\n",
    "\n",
    "training = training.join(itemDF, training.gameId == itemDF.gameId, 'outer')\\\n",
    "    .select(training.userId, training.gameId, training.item_normalizedH ,training.user_mean, itemDF.item_mean)\n",
    "\n",
    "#user_item_interaction  \n",
    "training = training.withColumn('user_item_interaction',(training.item_normalizedH \\\n",
    "                                                        - (training.user_mean + training.item_mean - global_item_mean)))\n",
    "\n",
    "\n",
    "#################\n",
    "# #####test#######\n",
    "\n",
    "test_user_mean = user_mean.alias('test_user_mean')\n",
    "test = test.join(test_user_mean, test.userId == test_user_mean.userId, 'inner') \\\n",
    "    .select(test.userId, test.gameId, test.item_normalizedH, test_user_mean.user_mean)\n",
    "\n",
    "test_itemmean = item_mean.alias('test_itemmean')\n",
    "test = test.join(test_itemmean, test.gameId == test_itemmean.gameId, 'inner') \\\n",
    "    .select(test.userId, test.gameId, test.item_normalizedH, test.user_mean, test_itemmean.item_mean)\n",
    "\n",
    "als = ALS( maxIter=5, regParam=0.01,implicitPrefs = True,userCol=\"userId\", itemCol=\"gameId\", ratingCol=\"user_item_interaction\",\n",
    "          coldStartStrategy=\"drop\").setSeed(123)\n",
    "\n",
    "\n",
    "model = als.fit(training)\n",
    "predictions = model.transform(test)\n",
    "\n",
    "predictions = predictions.withColumn('prediction_calculated',\n",
    "                                     predictions.prediction + predictions.user_mean + predictions.item_mean - global_mean)\n",
    "\n",
    "evaluator = RegressionEvaluator(metricName=\"rmse\", labelCol=\"item_normalizedH\", predictionCol=\"prediction_calculated\")\n",
    "rmse = evaluator.evaluate(predictions)\n",
    "\n",
    "rmse"
   ]
  },
  {
   "cell_type": "code",
   "execution_count": null,
   "metadata": {},
   "outputs": [],
   "source": []
  }
 ],
 "metadata": {
  "kernelspec": {
   "display_name": "Python 3",
   "language": "python",
   "name": "python3"
  },
  "language_info": {
   "codemirror_mode": {
    "name": "ipython",
    "version": 3
   },
   "file_extension": ".py",
   "mimetype": "text/x-python",
   "name": "python",
   "nbconvert_exporter": "python",
   "pygments_lexer": "ipython3",
   "version": "3.6.7"
  }
 },
 "nbformat": 4,
 "nbformat_minor": 2
}
